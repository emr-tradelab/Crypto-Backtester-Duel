{
 "cells": [
  {
   "cell_type": "markdown",
   "id": "6bb6506a",
   "metadata": {},
   "source": [
    "In this notebook, I will experiment with a simple backtesting strategy using the `NautilusTrader` library. The strategy will be tested on Bitcoin/USD 1-hour interval data. This workflow will demonstrate how to set up, implement, and evaluate a trading strategy using historical data."
   ]
  },
  {
   "cell_type": "code",
   "execution_count": 151,
   "id": "64ede515",
   "metadata": {},
   "outputs": [],
   "source": [
    "import os\n",
    "import sys\n",
    "# Add src folder to Python path\n",
    "root_path = os.path.abspath(os.path.join(os.getcwd(), \"..\"))\n",
    "sys.path.append(root_path)"
   ]
  },
  {
   "cell_type": "markdown",
   "id": "aabe31d2",
   "metadata": {},
   "source": [
    "## Load data"
   ]
  },
  {
   "cell_type": "code",
   "execution_count": 152,
   "id": "e3f07ad3",
   "metadata": {},
   "outputs": [],
   "source": [
    "import polars as pl\n",
    "from src.utils.utils import polars_to_pandas\n",
    "# from src.config import config"
   ]
  },
  {
   "cell_type": "code",
   "execution_count": 153,
   "id": "9f42eba1",
   "metadata": {},
   "outputs": [
    {
     "data": {
      "text/html": [
       "<div><style>\n",
       ".dataframe > thead > tr,\n",
       ".dataframe > tbody > tr {\n",
       "  text-align: right;\n",
       "  white-space: pre-wrap;\n",
       "}\n",
       "</style>\n",
       "<small>shape: (5, 12)</small><table border=\"1\" class=\"dataframe\"><thead><tr><th>open_time</th><th>open</th><th>high</th><th>low</th><th>close</th><th>volume</th><th>close_time</th><th>quote_asset_volume</th><th>trades</th><th>taker_base_vol</th><th>taker_quote_vol</th><th>ignore</th></tr><tr><td>datetime[ms]</td><td>f64</td><td>f64</td><td>f64</td><td>f64</td><td>f64</td><td>datetime[ms]</td><td>f64</td><td>i64</td><td>f64</td><td>f64</td><td>str</td></tr></thead><tbody><tr><td>2024-07-29 15:00:00</td><td>68228.01</td><td>68304.0</td><td>67668.34</td><td>68104.0</td><td>2569.35164</td><td>2024-07-29 15:59:59.999</td><td>1.7466e8</td><td>140700</td><td>1207.6142</td><td>8.2108e7</td><td>&quot;0&quot;</td></tr><tr><td>2024-07-29 16:00:00</td><td>68103.99</td><td>68118.0</td><td>66800.0</td><td>66940.01</td><td>3974.77521</td><td>2024-07-29 16:59:59.999</td><td>2.6730e8</td><td>196389</td><td>1680.9994</td><td>1.1305e8</td><td>&quot;0&quot;</td></tr><tr><td>2024-07-29 17:00:00</td><td>66940.01</td><td>67177.52</td><td>66428.0</td><td>67015.08</td><td>3084.77284</td><td>2024-07-29 17:59:59.999</td><td>2.0632e8</td><td>170837</td><td>1412.07947</td><td>9.4456e7</td><td>&quot;0&quot;</td></tr><tr><td>2024-07-29 18:00:00</td><td>67015.09</td><td>67547.32</td><td>66940.0</td><td>67419.99</td><td>1330.02008</td><td>2024-07-29 18:59:59.999</td><td>8.9536e7</td><td>76770</td><td>714.41138</td><td>4.8095e7</td><td>&quot;0&quot;</td></tr><tr><td>2024-07-29 19:00:00</td><td>67419.99</td><td>67549.73</td><td>67242.99</td><td>67303.05</td><td>693.95142</td><td>2024-07-29 19:59:59.999</td><td>4.6779e7</td><td>42145</td><td>326.29489</td><td>2.1996e7</td><td>&quot;0&quot;</td></tr></tbody></table></div>"
      ],
      "text/plain": [
       "shape: (5, 12)\n",
       "┌──────────────┬──────────┬──────────┬──────────┬───┬────────┬──────────────┬─────────────┬────────┐\n",
       "│ open_time    ┆ open     ┆ high     ┆ low      ┆ … ┆ trades ┆ taker_base_v ┆ taker_quote ┆ ignore │\n",
       "│ ---          ┆ ---      ┆ ---      ┆ ---      ┆   ┆ ---    ┆ ol           ┆ _vol        ┆ ---    │\n",
       "│ datetime[ms] ┆ f64      ┆ f64      ┆ f64      ┆   ┆ i64    ┆ ---          ┆ ---         ┆ str    │\n",
       "│              ┆          ┆          ┆          ┆   ┆        ┆ f64          ┆ f64         ┆        │\n",
       "╞══════════════╪══════════╪══════════╪══════════╪═══╪════════╪══════════════╪═════════════╪════════╡\n",
       "│ 2024-07-29   ┆ 68228.01 ┆ 68304.0  ┆ 67668.34 ┆ … ┆ 140700 ┆ 1207.6142    ┆ 8.2108e7    ┆ 0      │\n",
       "│ 15:00:00     ┆          ┆          ┆          ┆   ┆        ┆              ┆             ┆        │\n",
       "│ 2024-07-29   ┆ 68103.99 ┆ 68118.0  ┆ 66800.0  ┆ … ┆ 196389 ┆ 1680.9994    ┆ 1.1305e8    ┆ 0      │\n",
       "│ 16:00:00     ┆          ┆          ┆          ┆   ┆        ┆              ┆             ┆        │\n",
       "│ 2024-07-29   ┆ 66940.01 ┆ 67177.52 ┆ 66428.0  ┆ … ┆ 170837 ┆ 1412.07947   ┆ 9.4456e7    ┆ 0      │\n",
       "│ 17:00:00     ┆          ┆          ┆          ┆   ┆        ┆              ┆             ┆        │\n",
       "│ 2024-07-29   ┆ 67015.09 ┆ 67547.32 ┆ 66940.0  ┆ … ┆ 76770  ┆ 714.41138    ┆ 4.8095e7    ┆ 0      │\n",
       "│ 18:00:00     ┆          ┆          ┆          ┆   ┆        ┆              ┆             ┆        │\n",
       "│ 2024-07-29   ┆ 67419.99 ┆ 67549.73 ┆ 67242.99 ┆ … ┆ 42145  ┆ 326.29489    ┆ 2.1996e7    ┆ 0      │\n",
       "│ 19:00:00     ┆          ┆          ┆          ┆   ┆        ┆              ┆             ┆        │\n",
       "└──────────────┴──────────┴──────────┴──────────┴───┴────────┴──────────────┴─────────────┴────────┘"
      ]
     },
     "execution_count": 153,
     "metadata": {},
     "output_type": "execute_result"
    }
   ],
   "source": [
    "df = pl.read_parquet(\"../data/BTCUSDT_1h_tmp_365days.parquet\")\n",
    "df.head()"
   ]
  },
  {
   "cell_type": "markdown",
   "id": "0da396bd",
   "metadata": {},
   "source": [
    "### POC design — Data ingest + catalog write"
   ]
  },
  {
   "cell_type": "code",
   "execution_count": 154,
   "id": "d4d057fd",
   "metadata": {},
   "outputs": [],
   "source": [
    "from __future__ import annotations\n",
    "import polars as pl\n",
    "from pathlib import Path\n",
    "from nautilus_trader.model import BarType\n",
    "from nautilus_trader.persistence.catalog import ParquetDataCatalog\n",
    "from nautilus_trader.persistence.wranglers import BarDataWrangler\n",
    "from nautilus_trader.test_kit.providers import TestInstrumentProvider\n",
    "from decimal import Decimal"
   ]
  },
  {
   "cell_type": "code",
   "execution_count": 155,
   "id": "d26f32af",
   "metadata": {},
   "outputs": [],
   "source": [
    "CATALOG_PATH = Path.cwd() / \"catalog\"\n",
    "CATALOG_PATH.mkdir(parents=True, exist_ok=True)\n",
    "\n",
    "# Create a catalog instance\n",
    "catalog = ParquetDataCatalog(CATALOG_PATH)"
   ]
  },
  {
   "cell_type": "code",
   "execution_count": 156,
   "id": "70983f0d",
   "metadata": {},
   "outputs": [
    {
     "name": "stdout",
     "output_type": "stream",
     "text": [
      "CurrencyPair(id=BTCUSDT.BINANCE, raw_symbol=BTCUSDT, asset_class=CRYPTOCURRENCY, instrument_class=SPOT, quote_currency=USDT, is_inverse=False, price_precision=2, price_increment=0.01, size_precision=6, size_increment=0.000001, multiplier=1, lot_size=None, margin_init=0, margin_maint=0, maker_fee=0.001, taker_fee=0.001, info=None)\n"
     ]
    }
   ],
   "source": [
    "BTCUSD = TestInstrumentProvider.btcusdt_binance()\n",
    "print(BTCUSD)"
   ]
  },
  {
   "cell_type": "markdown",
   "id": "a7aa9c0e",
   "metadata": {},
   "source": [
    "OBLIGATORIO: Pandas df con timestamp como indice"
   ]
  },
  {
   "cell_type": "code",
   "execution_count": 157,
   "id": "c3d36cf8",
   "metadata": {},
   "outputs": [
    {
     "data": {
      "text/html": [
       "<div>\n",
       "<style scoped>\n",
       "    .dataframe tbody tr th:only-of-type {\n",
       "        vertical-align: middle;\n",
       "    }\n",
       "\n",
       "    .dataframe tbody tr th {\n",
       "        vertical-align: top;\n",
       "    }\n",
       "\n",
       "    .dataframe thead th {\n",
       "        text-align: right;\n",
       "    }\n",
       "</style>\n",
       "<table border=\"1\" class=\"dataframe\">\n",
       "  <thead>\n",
       "    <tr style=\"text-align: right;\">\n",
       "      <th></th>\n",
       "      <th>open</th>\n",
       "      <th>high</th>\n",
       "      <th>low</th>\n",
       "      <th>close</th>\n",
       "      <th>volume</th>\n",
       "    </tr>\n",
       "    <tr>\n",
       "      <th>timestamp</th>\n",
       "      <th></th>\n",
       "      <th></th>\n",
       "      <th></th>\n",
       "      <th></th>\n",
       "      <th></th>\n",
       "    </tr>\n",
       "  </thead>\n",
       "  <tbody>\n",
       "    <tr>\n",
       "      <th>2024-07-29 16:00:00</th>\n",
       "      <td>68228.01</td>\n",
       "      <td>68304.00</td>\n",
       "      <td>67668.34</td>\n",
       "      <td>68104.00</td>\n",
       "      <td>2569.35164</td>\n",
       "    </tr>\n",
       "    <tr>\n",
       "      <th>2024-07-29 17:00:00</th>\n",
       "      <td>68103.99</td>\n",
       "      <td>68118.00</td>\n",
       "      <td>66800.00</td>\n",
       "      <td>66940.01</td>\n",
       "      <td>3974.77521</td>\n",
       "    </tr>\n",
       "    <tr>\n",
       "      <th>2024-07-29 18:00:00</th>\n",
       "      <td>66940.01</td>\n",
       "      <td>67177.52</td>\n",
       "      <td>66428.00</td>\n",
       "      <td>67015.08</td>\n",
       "      <td>3084.77284</td>\n",
       "    </tr>\n",
       "    <tr>\n",
       "      <th>2024-07-29 19:00:00</th>\n",
       "      <td>67015.09</td>\n",
       "      <td>67547.32</td>\n",
       "      <td>66940.00</td>\n",
       "      <td>67419.99</td>\n",
       "      <td>1330.02008</td>\n",
       "    </tr>\n",
       "    <tr>\n",
       "      <th>2024-07-29 20:00:00</th>\n",
       "      <td>67419.99</td>\n",
       "      <td>67549.73</td>\n",
       "      <td>67242.99</td>\n",
       "      <td>67303.05</td>\n",
       "      <td>693.95142</td>\n",
       "    </tr>\n",
       "  </tbody>\n",
       "</table>\n",
       "</div>"
      ],
      "text/plain": [
       "                         open      high       low     close      volume\n",
       "timestamp                                                              \n",
       "2024-07-29 16:00:00  68228.01  68304.00  67668.34  68104.00  2569.35164\n",
       "2024-07-29 17:00:00  68103.99  68118.00  66800.00  66940.01  3974.77521\n",
       "2024-07-29 18:00:00  66940.01  67177.52  66428.00  67015.08  3084.77284\n",
       "2024-07-29 19:00:00  67015.09  67547.32  66940.00  67419.99  1330.02008\n",
       "2024-07-29 20:00:00  67419.99  67549.73  67242.99  67303.05   693.95142"
      ]
     },
     "execution_count": 157,
     "metadata": {},
     "output_type": "execute_result"
    }
   ],
   "source": [
    "df = df.with_columns(\n",
    "        (pl.col(\"open_time\") + pl.duration(hours=1)).alias(\"timestamp\"),\n",
    "    ).to_pandas()\n",
    "\n",
    "# Change order of columns\n",
    "df = df.reindex(columns=[\"timestamp\", \"open\", \"high\", \"low\", \"close\", \"volume\"])\n",
    "df = df.set_index(\"timestamp\")\n",
    "df.head()"
   ]
  },
  {
   "cell_type": "code",
   "execution_count": 158,
   "id": "bc222c18",
   "metadata": {},
   "outputs": [],
   "source": [
    "EURUSD_SPOT_1MIN_BARTYPE = BarType.from_str(\n",
    "    f\"{BTCUSD.id}-1-HOUR-LAST-EXTERNAL\"\n",
    ")"
   ]
  },
  {
   "cell_type": "code",
   "execution_count": 159,
   "id": "fa94fd0f",
   "metadata": {},
   "outputs": [],
   "source": [
    "wrangler = BarDataWrangler(bar_type=EURUSD_SPOT_1MIN_BARTYPE, instrument=BTCUSD)\n",
    "BARS = wrangler.process(df)"
   ]
  },
  {
   "cell_type": "code",
   "execution_count": 160,
   "id": "d5e40984",
   "metadata": {},
   "outputs": [],
   "source": [
    "catalog.write_data([BTCUSD])"
   ]
  },
  {
   "cell_type": "code",
   "execution_count": 161,
   "id": "b82d7205",
   "metadata": {},
   "outputs": [],
   "source": [
    "catalog.write_data(BARS)"
   ]
  },
  {
   "cell_type": "code",
   "execution_count": 162,
   "id": "664b8605",
   "metadata": {},
   "outputs": [
    {
     "name": "stdout",
     "output_type": "stream",
     "text": [
      "All instruments:\n",
      "[CurrencyPair(id=BTCUSDT.BINANCE, raw_symbol=BTCUSDT, asset_class=CRYPTOCURRENCY, instrument_class=SPOT, quote_currency=USDT, is_inverse=False, price_precision=2, price_increment=0.01, size_precision=6, size_increment=0.000001, multiplier=1, lot_size=None, margin_init=0, margin_maint=0, maker_fee=0.001, taker_fee=0.001, info=None)]\n",
      "All bars count: 17520\n"
     ]
    }
   ],
   "source": [
    "# Read and analyze data from the catalog\n",
    "# - Retrieve all instrument definitions\n",
    "all_instruments = catalog.instruments()\n",
    "print(f\"All instruments:\\n{all_instruments}\")\n",
    "\n",
    "# - Get all available bars\n",
    "all_bars = catalog.bars()\n",
    "print(f\"All bars count: {len(all_bars)}\")"
   ]
  },
  {
   "cell_type": "markdown",
   "id": "628b4384",
   "metadata": {},
   "source": [
    "## Simple bt"
   ]
  },
  {
   "cell_type": "code",
   "execution_count": 163,
   "id": "5a9f8bf7",
   "metadata": {},
   "outputs": [],
   "source": [
    "from nautilus_trader.config import BacktestEngineConfig, BacktestDataConfig, BacktestVenueConfig, BacktestRunConfig\n",
    "from nautilus_trader.backtest.node import BacktestNode\n",
    "from nautilus_trader.model import Bar\n",
    "from nautilus_trader.model import Money, Venue\n",
    "from nautilus_trader.model.enums import OmsType\n",
    "from nautilus_trader.model.enums import AccountType\n",
    "from nautilus_trader.config import ImportableStrategyConfig\n",
    "from nautilus_trader.model.currencies import BTC\n",
    "from nautilus_trader.model.currencies import USDT"
   ]
  },
  {
   "cell_type": "markdown",
   "id": "03b09665",
   "metadata": {},
   "source": [
    "Configure Data"
   ]
  },
  {
   "cell_type": "code",
   "execution_count": 164,
   "id": "14847ab5",
   "metadata": {},
   "outputs": [
    {
     "data": {
      "text/plain": [
       "BacktestDataConfig(catalog_path='/workspaces/Crypto-Backtester-Duel/notebooks/catalog', data_cls=<class 'nautilus_trader.model.data.Bar'>, catalog_fs_protocol=None, catalog_fs_storage_options=None, instrument_id=InstrumentId('BTCUSDT.BINANCE'), start_time=None, end_time=None, filter_expr=None, client_id=None, metadata=None, bar_spec=None, instrument_ids=None, bar_types=[BarType(BTCUSDT.BINANCE-1-HOUR-LAST-EXTERNAL)])"
      ]
     },
     "execution_count": 164,
     "metadata": {},
     "output_type": "execute_result"
    }
   ],
   "source": [
    "data_config = BacktestDataConfig(\n",
    "        catalog_path = str(CATALOG_PATH),\n",
    "        data_cls=Bar,\n",
    "        instrument_id=BTCUSD.id,\n",
    "        bar_types=[EURUSD_SPOT_1MIN_BARTYPE],\n",
    "    )\n",
    "data_config"
   ]
  },
  {
   "cell_type": "markdown",
   "id": "f5264c5b",
   "metadata": {},
   "source": [
    "Configure Venue"
   ]
  },
  {
   "cell_type": "code",
   "execution_count": 165,
   "id": "c8a7f3ce",
   "metadata": {},
   "outputs": [
    {
     "data": {
      "text/plain": [
       "BacktestVenueConfig(name='BINANCE', oms_type='NETTING', account_type='CASH', starting_balances=[Money(1000000.00000000, USDT), Money(1.00000000, BTC)], base_currency=None, default_leverage=1.0, leverages=None, book_type='L1_MBP', routing=False, frozen_account=False, reject_stop_orders=True, support_gtd_orders=True, support_contingent_orders=True, use_position_ids=True, use_random_ids=False, use_reduce_only=True, bar_execution=True, bar_adaptive_high_low_ordering=False, trade_execution=False, modules=None, fill_model=None, latency_model=None, fee_model=None)"
      ]
     },
     "execution_count": 165,
     "metadata": {},
     "output_type": "execute_result"
    }
   ],
   "source": [
    "VENUE = Venue(\"BINANCE\")\n",
    "\n",
    "venue_config = BacktestVenueConfig(\n",
    "        name=str(VENUE),\n",
    "        oms_type=\"NETTING\",\n",
    "        account_type=\"CASH\",  # Spot CASH account (not for perpetuals or futures)\n",
    "        base_currency=None,  # Multi-currency account\n",
    "        starting_balances=[Money(1_000_000.0, USDT), Money(1.0, BTC)],\n",
    "    )\n",
    "venue_config"
   ]
  },
  {
   "cell_type": "markdown",
   "id": "e468e105",
   "metadata": {},
   "source": [
    "Configure Strategy"
   ]
  },
  {
   "cell_type": "code",
   "execution_count": 166,
   "id": "8982aba9",
   "metadata": {},
   "outputs": [
    {
     "data": {
      "text/plain": [
       "[ImportableStrategyConfig(strategy_path='nautilus_trader.examples.strategies.ema_cross:EMACross', config_path='nautilus_trader.examples.strategies.ema_cross:EMACrossConfig', config={'instrument_id': InstrumentId('BTCUSDT.BINANCE'), 'bar_type': BarType(BTCUSDT.BINANCE-1-HOUR-LAST-EXTERNAL), 'fast_ema_period': 30, 'slow_ema_period': 100, 'trade_size': Decimal('1000')})]"
      ]
     },
     "execution_count": 166,
     "metadata": {},
     "output_type": "execute_result"
    }
   ],
   "source": [
    "strategies = [\n",
    "    ImportableStrategyConfig(\n",
    "        strategy_path=\"nautilus_trader.examples.strategies.ema_cross:EMACross\",\n",
    "        config_path=\"nautilus_trader.examples.strategies.ema_cross:EMACrossConfig\",\n",
    "        config={\n",
    "            \"instrument_id\": BTCUSD.id,\n",
    "            \"bar_type\": EURUSD_SPOT_1MIN_BARTYPE,\n",
    "            \"fast_ema_period\": 30,\n",
    "            \"slow_ema_period\": 100,\n",
    "            \"trade_size\": Decimal(1_000.0),\n",
    "        },\n",
    "    ),\n",
    "]\n",
    "strategies"
   ]
  },
  {
   "cell_type": "markdown",
   "id": "44f0340f",
   "metadata": {},
   "source": [
    "Configure Engine:\n",
    "\n",
    "The BacktestDataConfig objects are integrated into the backtesting framework through BacktestRunConfig:\n",
    "(https://nautilustrader.io/docs/latest/concepts/data/#integration-with-backtestrunconfig)"
   ]
  },
  {
   "cell_type": "code",
   "execution_count": 167,
   "id": "c358fb57",
   "metadata": {},
   "outputs": [],
   "source": [
    "# # Configure backtest engine\n",
    "# config = BacktestEngineConfig(trader_id=TraderId(\"BACKTESTER-001\"))\n",
    "\n",
    "# # Build the backtest engine\n",
    "# engine = BacktestEngine(config=config)"
   ]
  },
  {
   "cell_type": "code",
   "execution_count": 168,
   "id": "e84ff3da",
   "metadata": {},
   "outputs": [
    {
     "data": {
      "text/plain": [
       "BacktestRunConfig(venues=[BacktestVenueConfig(name='BINANCE', oms_type='NETTING', account_type='CASH', starting_balances=[Money(1000000.00000000, USDT), Money(1.00000000, BTC)], base_currency=None, default_leverage=1.0, leverages=None, book_type='L1_MBP', routing=False, frozen_account=False, reject_stop_orders=True, support_gtd_orders=True, support_contingent_orders=True, use_position_ids=True, use_random_ids=False, use_reduce_only=True, bar_execution=True, bar_adaptive_high_low_ordering=False, trade_execution=False, modules=None, fill_model=None, latency_model=None, fee_model=None)], data=[BacktestDataConfig(catalog_path='/workspaces/Crypto-Backtester-Duel/notebooks/catalog', data_cls=<class 'nautilus_trader.model.data.Bar'>, catalog_fs_protocol=None, catalog_fs_storage_options=None, instrument_id=InstrumentId('BTCUSDT.BINANCE'), start_time=None, end_time=None, filter_expr=None, client_id=None, metadata=None, bar_spec=None, instrument_ids=None, bar_types=[BarType(BTCUSDT.BINANCE-1-HOUR-LAST-EXTERNAL)])], engine=BacktestEngineConfig(environment=<Environment.BACKTEST: 'backtest'>, trader_id=TraderId('BACKTESTER-001'), instance_id=None, cache=None, message_bus=None, data_engine=DataEngineConfig(time_bars_interval_type='left-open', time_bars_timestamp_on_close=True, time_bars_skip_first_non_full_bar=False, time_bars_build_with_no_updates=True, time_bars_origin_offset=None, time_bars_build_delay=0, validate_data_sequence=False, buffer_deltas=False, external_clients=None, debug=False), risk_engine=RiskEngineConfig(bypass=False, max_order_submit_rate='100/00:00:01', max_order_modify_rate='100/00:00:01', max_notional_per_order={}, debug=False), exec_engine=ExecEngineConfig(load_cache=True, manage_own_order_books=False, snapshot_orders=False, snapshot_positions=False, snapshot_positions_interval_secs=None, debug=False), portfolio=None, emulator=None, streaming=None, catalogs=[], actors=[], strategies=[ImportableStrategyConfig(strategy_path='nautilus_trader.examples.strategies.ema_cross:EMACross', config_path='nautilus_trader.examples.strategies.ema_cross:EMACrossConfig', config={'instrument_id': InstrumentId('BTCUSDT.BINANCE'), 'bar_type': BarType(BTCUSDT.BINANCE-1-HOUR-LAST-EXTERNAL), 'fast_ema_period': 30, 'slow_ema_period': 100, 'trade_size': Decimal('1000')})], exec_algorithms=[], controller=None, load_state=False, save_state=False, loop_debug=False, logging=None, timeout_connection=60.0, timeout_reconciliation=30.0, timeout_portfolio=10.0, timeout_disconnection=10.0, timeout_post_stop=10.0, timeout_shutdown=5.0, run_analysis=True), chunk_size=None, raise_exception=False, dispose_on_completion=True, start=None, end=None, data_clients=None)"
      ]
     },
     "execution_count": 168,
     "metadata": {},
     "output_type": "execute_result"
    }
   ],
   "source": [
    "run_config = BacktestRunConfig(\n",
    "    engine=BacktestEngineConfig(strategies=strategies),\n",
    "    venues=[venue_config],\n",
    "    data=[data_config],\n",
    ")\n",
    "run_config"
   ]
  },
  {
   "cell_type": "code",
   "execution_count": 169,
   "id": "0dd637b7",
   "metadata": {},
   "outputs": [
    {
     "name": "stdout",
     "output_type": "stream",
     "text": [
      "\u001b[1m2025-07-30T15:34:17.899078961Z\u001b[0m [INFO] BACKTESTER-001.BacktestEngine: Building system kernel\u001b[0m\n",
      "\u001b[1m2025-07-30T15:34:17.899117246Z\u001b[0m \u001b[94m[INFO] BACKTESTER-001.MessageBus: config.database=None\u001b[0m\n",
      "\u001b[1m2025-07-30T15:34:17.899119945Z\u001b[0m \u001b[94m[INFO] BACKTESTER-001.MessageBus: config.encoding='msgpack'\u001b[0m\n",
      "\u001b[1m2025-07-30T15:34:17.899121753Z\u001b[0m \u001b[94m[INFO] BACKTESTER-001.MessageBus: config.timestamps_as_iso8601=False\u001b[0m\n",
      "\u001b[1m2025-07-30T15:34:17.899122958Z\u001b[0m \u001b[94m[INFO] BACKTESTER-001.MessageBus: config.buffer_interval_ms=None\u001b[0m\n",
      "\u001b[1m2025-07-30T15:34:17.899124554Z\u001b[0m \u001b[94m[INFO] BACKTESTER-001.MessageBus: config.autotrim_mins=None\u001b[0m\n",
      "\u001b[1m2025-07-30T15:34:17.899126715Z\u001b[0m \u001b[94m[INFO] BACKTESTER-001.MessageBus: config.use_trader_prefix=True\u001b[0m\n",
      "\u001b[1m2025-07-30T15:34:17.899128529Z\u001b[0m \u001b[94m[INFO] BACKTESTER-001.MessageBus: config.use_trader_id=True\u001b[0m\n",
      "\u001b[1m2025-07-30T15:34:17.899129706Z\u001b[0m \u001b[94m[INFO] BACKTESTER-001.MessageBus: config.use_instance_id=False\u001b[0m\n",
      "\u001b[1m2025-07-30T15:34:17.899131677Z\u001b[0m \u001b[94m[INFO] BACKTESTER-001.MessageBus: config.streams_prefix='stream'\u001b[0m\n",
      "\u001b[1m2025-07-30T15:34:17.899136001Z\u001b[0m \u001b[94m[INFO] BACKTESTER-001.MessageBus: config.types_filter=None\u001b[0m\n",
      "\u001b[1m2025-07-30T15:34:17.899199517Z\u001b[0m [INFO] BACKTESTER-001.Cache: READY\u001b[0m\n",
      "\u001b[1m2025-07-30T15:34:17.901313678Z\u001b[0m [INFO] BACKTESTER-001.DataEngine: READY\u001b[0m\n",
      "\u001b[1m2025-07-30T15:34:17.901444393Z\u001b[0m [INFO] BACKTESTER-001.RiskEngine: READY\u001b[0m\n",
      "\u001b[1m2025-07-30T15:34:17.901467290Z\u001b[0m \u001b[94m[INFO] BACKTESTER-001.RiskEngine: TradingState is ACTIVE\u001b[0m\n",
      "\u001b[1m2025-07-30T15:34:17.901568478Z\u001b[0m [INFO] BACKTESTER-001.Throttler-ORDER_SUBMIT_THROTTLER: READY\u001b[0m\n",
      "\u001b[1m2025-07-30T15:34:17.901604713Z\u001b[0m \u001b[94m[INFO] BACKTESTER-001.RiskEngine: Set MAX_ORDER_SUBMIT_RATE: 100/00:00:01\u001b[0m\n",
      "\u001b[1m2025-07-30T15:34:17.901636157Z\u001b[0m [INFO] BACKTESTER-001.Throttler-ORDER_MODIFY_THROTTLER: READY\u001b[0m\n",
      "\u001b[1m2025-07-30T15:34:17.901646943Z\u001b[0m \u001b[94m[INFO] BACKTESTER-001.RiskEngine: Set MAX_ORDER_MODIFY_RATE: 100/00:00:01\u001b[0m\n",
      "\u001b[1m2025-07-30T15:34:17.901787671Z\u001b[0m [INFO] BACKTESTER-001.ExecEngine: READY\u001b[0m\n",
      "\u001b[1m2025-07-30T15:34:17.906305216Z\u001b[0m \u001b[94m[INFO] BACKTESTER-001.ExecEngine: config.snapshot_orders=False\u001b[0m\n",
      "\u001b[1m2025-07-30T15:34:17.906321411Z\u001b[0m \u001b[94m[INFO] BACKTESTER-001.ExecEngine: config.snapshot_positions=False\u001b[0m\n",
      "\u001b[1m2025-07-30T15:34:17.906323347Z\u001b[0m \u001b[94m[INFO] BACKTESTER-001.ExecEngine: config.snapshot_positions_interval_secs=None\u001b[0m\n",
      "\u001b[1m2025-07-30T15:34:17.906360907Z\u001b[0m [INFO] BACKTESTER-001.Cache: Cached 0 general objects from database\u001b[0m\n",
      "\u001b[1m2025-07-30T15:34:17.906368513Z\u001b[0m [INFO] BACKTESTER-001.Cache: Cached 0 currencies from database\u001b[0m\n",
      "\u001b[1m2025-07-30T15:34:17.906370495Z\u001b[0m [INFO] BACKTESTER-001.Cache: Cached 0 instruments from database\u001b[0m\n",
      "\u001b[1m2025-07-30T15:34:17.906373138Z\u001b[0m [INFO] BACKTESTER-001.Cache: Cached 0 accounts from database\u001b[0m\n",
      "\u001b[1m2025-07-30T15:34:17.906380492Z\u001b[0m [INFO] BACKTESTER-001.Cache: Cached 0 orders from database\u001b[0m\n",
      "\u001b[1m2025-07-30T15:34:17.906387633Z\u001b[0m [INFO] BACKTESTER-001.Cache: Cached 0 order lists from database\u001b[0m\n",
      "\u001b[1m2025-07-30T15:34:17.906389785Z\u001b[0m [INFO] BACKTESTER-001.Cache: Cached 0 positions from database\u001b[0m\n",
      "\u001b[1m2025-07-30T15:34:17.906410004Z\u001b[0m [INFO] BACKTESTER-001.Cache: Checking data integrity\u001b[0m\n",
      "\u001b[1m2025-07-30T15:34:17.906428349Z\u001b[0m \u001b[92m[INFO] BACKTESTER-001.Cache: Integrity check passed in 14μs\u001b[0m\n",
      "\u001b[1m2025-07-30T15:34:17.906442038Z\u001b[0m [INFO] BACKTESTER-001.ExecEngine: Loaded cache in 0ms\u001b[0m\n",
      "\u001b[1m2025-07-30T15:34:17.906523766Z\u001b[0m [INFO] BACKTESTER-001.OrderEmulator: READY\u001b[0m\n",
      "\u001b[1m2025-07-30T15:34:17.906625179Z\u001b[0m [INFO] BACKTESTER-001.BACKTESTER-001: READY\u001b[0m\n",
      "\u001b[1m2025-07-30T15:34:17.908632614Z\u001b[0m [INFO] BACKTESTER-001.EMACross: READY\u001b[0m\n",
      "\u001b[1m2025-07-30T15:34:17.908772133Z\u001b[0m [INFO] BACKTESTER-001.ExecEngine: Registered OMS.UNSPECIFIED for Strategy EMACross-000\u001b[0m\n",
      "\u001b[1m2025-07-30T15:34:17.908785478Z\u001b[0m [INFO] BACKTESTER-001.BACKTESTER-001: Registered Strategy EMACross-000\u001b[0m\n",
      "\u001b[1m2025-07-30T15:34:17.908804006Z\u001b[0m [INFO] BACKTESTER-001.BacktestEngine: Initialized in 9ms\u001b[0m\n",
      "\u001b[1m2025-07-30T15:34:17.911941964Z\u001b[0m [INFO] BACKTESTER-001.SimulatedExchange(BINANCE): OmsType=NETTING\u001b[0m\n",
      "\u001b[1m2025-07-30T15:34:17.912010257Z\u001b[0m [INFO] BACKTESTER-001.ExecClient-BINANCE: READY\u001b[0m\n",
      "\u001b[1m2025-07-30T15:34:17.912072154Z\u001b[0m [INFO] BACKTESTER-001.SimulatedExchange(BINANCE): Registered ExecutionClient-BINANCE\u001b[0m\n",
      "\u001b[1m2025-07-30T15:34:17.912082676Z\u001b[0m [INFO] BACKTESTER-001.ExecEngine: Registered ExecutionClient-BINANCE\u001b[0m\n",
      "\u001b[1m2025-07-30T15:34:17.912125571Z\u001b[0m [INFO] BACKTESTER-001.DataClient-BINANCE: READY\u001b[0m\n",
      "\u001b[1m2025-07-30T15:34:17.912147934Z\u001b[0m [INFO] BACKTESTER-001.DataEngine: Registered BINANCE\u001b[0m\n",
      "\u001b[1m2025-07-30T15:34:17.912157970Z\u001b[0m [INFO] BACKTESTER-001.BacktestEngine: Added SimulatedExchange(id=BINANCE, oms_type=NETTING, account_type=CASH)\u001b[0m\n",
      "\u001b[1m2025-07-30T15:34:17.928440530Z\u001b[0m [INFO] BACKTESTER-001.SimulatedExchange(BINANCE): Added instrument BTCUSDT.BINANCE and created matching engine\u001b[0m\n",
      "\u001b[1m2025-07-30T15:34:17.928461551Z\u001b[0m [INFO] BACKTESTER-001.BacktestEngine: Added BTCUSDT.BINANCE Instrument\u001b[0m\n",
      "\u001b[1m2025-07-30T15:34:17.928814120Z\u001b[0m [INFO] BACKTESTER-001.BacktestEngine: Reading <class 'nautilus_trader.model.data.Bar'> data for instrument_ids=[InstrumentId('BTCUSDT.BINANCE')].\u001b[0m\n",
      "\u001b[1m2025-07-30T15:34:17.964281837Z\u001b[0m [INFO] BACKTESTER-001.BacktestEngine: Read 17,520 events from parquet in 0 days 00:00:00.035369s\u001b[0m\n",
      "\u001b[1m2025-07-30T15:34:17.993550290Z\u001b[0m [INFO] BACKTESTER-001.BacktestEngine: Added 17_520 BTCUSDT.BINANCE-1-HOUR-LAST-EXTERNAL Bar elements\u001b[0m\n",
      "\u001b[1m2025-07-30T15:34:17.996074305Z\u001b[0m [INFO] BACKTESTER-001.BacktestEngine: Engine load took 0 days 00:00:00.031826s\u001b[0m\n",
      "\u001b[1m2025-07-30T15:34:17.996333785Z\u001b[0m [INFO] BACKTESTER-001.Portfolio: Updated AccountState(account_id=BINANCE-001, account_type=CASH, base_currency=None, is_reported=True, balances=[AccountBalance(total=1_000_000.00000000 USDT, locked=0.00000000 USDT, free=1_000_000.00000000 USDT), AccountBalance(total=1.00000000 BTC, locked=0.00000000 BTC, free=1.00000000 BTC)], margins=[], event_id=1c1dd89c-e402-447a-8ca6-97d0574434ba)\u001b[0m\n",
      "\u001b[1m2024-07-29T16:00:00.000000000Z\u001b[0m [INFO] BACKTESTER-001.BacktestEngine: STARTING\u001b[0m\n",
      "\u001b[1m2024-07-29T16:00:00.000000000Z\u001b[0m [INFO] BACKTESTER-001.DataClient-BINANCE: Connecting...\u001b[0m\n",
      "\u001b[1m2024-07-29T16:00:00.000000000Z\u001b[0m [INFO] BACKTESTER-001.DataClient-BINANCE: Connected\u001b[0m\n",
      "\u001b[1m2024-07-29T16:00:00.000000000Z\u001b[0m [INFO] BACKTESTER-001.DataClient-BINANCE: RUNNING\u001b[0m\n",
      "\u001b[1m2024-07-29T16:00:00.000000000Z\u001b[0m [INFO] BACKTESTER-001.DataEngine: RUNNING\u001b[0m\n",
      "\u001b[1m2024-07-29T16:00:00.000000000Z\u001b[0m [INFO] BACKTESTER-001.RiskEngine: RUNNING\u001b[0m\n",
      "\u001b[1m2024-07-29T16:00:00.000000000Z\u001b[0m [INFO] BACKTESTER-001.ExecClient-BINANCE: Connecting...\u001b[0m\n",
      "\u001b[1m2024-07-29T16:00:00.000000000Z\u001b[0m [INFO] BACKTESTER-001.ExecClient-BINANCE: Connected\u001b[0m\n",
      "\u001b[1m2024-07-29T16:00:00.000000000Z\u001b[0m [INFO] BACKTESTER-001.ExecClient-BINANCE: RUNNING\u001b[0m\n",
      "\u001b[1m2024-07-29T16:00:00.000000000Z\u001b[0m [INFO] BACKTESTER-001.ExecEngine: RUNNING\u001b[0m\n",
      "\u001b[1m2024-07-29T16:00:00.000000000Z\u001b[0m [INFO] BACKTESTER-001.DataEngine: Connecting all clients...\u001b[0m\n",
      "\u001b[1m2024-07-29T16:00:00.000000000Z\u001b[0m [INFO] BACKTESTER-001.ExecEngine: Connecting all clients...\u001b[0m\n",
      "\u001b[1m2024-07-29T16:00:00.000000000Z\u001b[0m [INFO] BACKTESTER-001.OrderEmulator: No emulated orders to reactivate\u001b[0m\n",
      "\u001b[1m2024-07-29T16:00:00.000000000Z\u001b[0m [INFO] BACKTESTER-001.OrderEmulator: RUNNING\u001b[0m\n",
      "\u001b[1m2024-07-29T16:00:00.000000000Z\u001b[0m [INFO] BACKTESTER-001.Portfolio: Initialized 0 open orders\u001b[0m\n",
      "\u001b[1m2024-07-29T16:00:00.000000000Z\u001b[0m [INFO] BACKTESTER-001.Portfolio: Initialized 0 open positions\u001b[0m\n",
      "\u001b[1m2024-07-29T16:00:00.000000000Z\u001b[0m \u001b[94m[INFO] BACKTESTER-001.EMACross: self.config.oms_type=None\u001b[0m\n",
      "\u001b[1m2024-07-29T16:00:00.000000000Z\u001b[0m \u001b[94m[INFO] BACKTESTER-001.EMACross: self.config.external_order_claims=None\u001b[0m\n",
      "\u001b[1m2024-07-29T16:00:00.000000000Z\u001b[0m \u001b[94m[INFO] BACKTESTER-001.EMACross: self.config.manage_gtd_expiry=False\u001b[0m\n",
      "\u001b[1m2024-07-29T16:00:00.000000000Z\u001b[0m \u001b[94m[INFO] BACKTESTER-001.EMACross: Set ClientOrderIdGenerator client_order_id count to 0\u001b[0m\n",
      "\u001b[1m2024-07-29T16:00:00.000000000Z\u001b[0m \u001b[94m[INFO] BACKTESTER-001.EMACross: Set ClientOrderIdGenerator order_list_id count to 0\u001b[0m\n",
      "\u001b[1m2024-07-29T16:00:00.000000000Z\u001b[0m [INFO] BACKTESTER-001.EMACross: Registered Indicator ExponentialMovingAverage(30) for BTCUSDT.BINANCE-1-HOUR-LAST-EXTERNAL bars\u001b[0m\n",
      "\u001b[1m2024-07-29T16:00:00.000000000Z\u001b[0m [INFO] BACKTESTER-001.EMACross: Registered Indicator ExponentialMovingAverage(100) for BTCUSDT.BINANCE-1-HOUR-LAST-EXTERNAL bars\u001b[0m\n",
      "\u001b[1m2024-07-29T16:00:00.000000000Z\u001b[0m [INFO] BACKTESTER-001.EMACross: [REQ]--> RequestBars(bar_type=BTCUSDT.BINANCE-1-HOUR-LAST-EXTERNAL, start=2024-07-28 16:00:00+00:00, end=None, limit=0, client_id=None, venue=BINANCE, data_type=Bar, params={'update_catalog': False})\u001b[0m\n",
      "\u001b[1m2024-07-29T16:00:00.000000000Z\u001b[0m [INFO] BACKTESTER-001.EMACross: [CMD]--> SubscribeBars(bar_type=BTCUSDT.BINANCE-1-HOUR-LAST-EXTERNAL, await_partial=False, client_id=None, venue=BINANCE)\u001b[0m\n",
      "\u001b[1m2024-07-29T16:00:00.000000000Z\u001b[0m [INFO] BACKTESTER-001.EMACross: [CMD]--> SubscribeTradeTicks(instrument_id=BTCUSDT.BINANCE, client_id=None, venue=BINANCE)\u001b[0m\n",
      "\u001b[1m2024-07-29T16:00:00.000000000Z\u001b[0m [INFO] BACKTESTER-001.EMACross: RUNNING\u001b[0m\n",
      "\u001b[1m2024-07-29T16:00:00.000000000Z\u001b[0m [INFO] BACKTESTER-001.BACKTESTER-001: RUNNING\u001b[0m\n",
      "\u001b[1m2024-07-29T16:00:00.000000000Z\u001b[0m \u001b[36m[INFO] BACKTESTER-001.BacktestEngine: =================================================================\u001b[0m\n",
      "\u001b[1m2024-07-29T16:00:00.000000000Z\u001b[0m \u001b[36m[INFO] BACKTESTER-001.BacktestEngine:  MEMORY USAGE\u001b[0m\n",
      "\u001b[1m2024-07-29T16:00:00.000000000Z\u001b[0m \u001b[36m[INFO] BACKTESTER-001.BacktestEngine: =================================================================\u001b[0m\n",
      "\u001b[1m2024-07-29T16:00:00.000000000Z\u001b[0m [INFO] BACKTESTER-001.BacktestEngine: RAM-Total: 7.76 GiB\u001b[0m\n",
      "\u001b[1m2024-07-29T16:00:00.000000000Z\u001b[0m [INFO] BACKTESTER-001.BacktestEngine: RAM-Used: 4.20 GiB (54.09%)\u001b[0m\n",
      "\u001b[1m2024-07-29T16:00:00.000000000Z\u001b[0m [INFO] BACKTESTER-001.BacktestEngine: RAM-Avail: 3.56 GiB (45.91%)\u001b[0m\n",
      "\u001b[1m2024-07-29T16:00:00.000000000Z\u001b[0m [INFO] BACKTESTER-001.BacktestEngine: Swap-Total: 0.00 GiB\u001b[0m\n",
      "\u001b[1m2024-07-29T16:00:00.000000000Z\u001b[0m [INFO] BACKTESTER-001.BacktestEngine: Swap-Used: 0.00 GiB (NaN%)\u001b[0m\n",
      "\u001b[1m2024-07-29T16:00:00.000000000Z\u001b[0m [INFO] BACKTESTER-001.BacktestEngine: Swap-Avail: 0.00 GiB (NaN%)\u001b[0m\n",
      "\u001b[1m2024-07-29T16:00:00.000000000Z\u001b[0m [INFO] BACKTESTER-001.BacktestEngine: \u001b[36m=================================================================\u001b[0m\n",
      "\u001b[1m2024-07-29T16:00:00.000000000Z\u001b[0m [INFO] BACKTESTER-001.BacktestEngine: \u001b[36m SimulatedVenue BINANCE\u001b[0m\n",
      "\u001b[1m2024-07-29T16:00:00.000000000Z\u001b[0m [INFO] BACKTESTER-001.BacktestEngine: \u001b[36m=================================================================\u001b[0m\n",
      "\u001b[1m2024-07-29T16:00:00.000000000Z\u001b[0m [INFO] BACKTESTER-001.BacktestEngine: CashAccount(id=BINANCE-001, type=CASH, base=None)\u001b[0m\n",
      "\u001b[1m2024-07-29T16:00:00.000000000Z\u001b[0m [INFO] BACKTESTER-001.BacktestEngine: \u001b[36m-----------------------------------------------------------------\u001b[0m\n",
      "\u001b[1m2024-07-29T16:00:00.000000000Z\u001b[0m [INFO] BACKTESTER-001.BacktestEngine: Balances starting:\u001b[0m\n",
      "\u001b[1m2024-07-29T16:00:00.000000000Z\u001b[0m [INFO] BACKTESTER-001.BacktestEngine: 1_000_000.00000000 USDT\u001b[0m\n",
      "\u001b[1m2024-07-29T16:00:00.000000000Z\u001b[0m [INFO] BACKTESTER-001.BacktestEngine: 1.00000000 BTC\u001b[0m\n",
      "\u001b[1m2024-07-29T16:00:00.000000000Z\u001b[0m [INFO] BACKTESTER-001.BacktestEngine: \u001b[36m=================================================================\u001b[0m\n",
      "\u001b[1m2024-07-29T16:00:00.000000000Z\u001b[0m [INFO] BACKTESTER-001.BacktestEngine: \u001b[36m BACKTEST RUN\u001b[0m\n",
      "\u001b[1m2024-07-29T16:00:00.000000000Z\u001b[0m [INFO] BACKTESTER-001.BacktestEngine: \u001b[36m=================================================================\u001b[0m\n",
      "\u001b[1m2024-07-29T16:00:00.000000000Z\u001b[0m [INFO] BACKTESTER-001.BacktestEngine: Run config ID:  1d0def9f9d8d27113f49f971304620b084621c590e8eaca46d783e7e00c2b8ce\u001b[0m\n",
      "\u001b[1m2024-07-29T16:00:00.000000000Z\u001b[0m [INFO] BACKTESTER-001.BacktestEngine: Run ID:         54bc1073-3ff8-4371-a6ec-a371daf51707\u001b[0m\n",
      "\u001b[1m2024-07-29T16:00:00.000000000Z\u001b[0m [INFO] BACKTESTER-001.BacktestEngine: Run started:    2025-07-30T15:34:17.996162000Z\u001b[0m\n",
      "\u001b[1m2024-07-29T16:00:00.000000000Z\u001b[0m [INFO] BACKTESTER-001.BacktestEngine: Backtest start: 2024-07-29T16:00:00.000000000Z\u001b[0m\n",
      "\u001b[1m2024-07-29T16:00:00.000000000Z\u001b[0m [INFO] BACKTESTER-001.BacktestEngine: Batch start:    2024-07-29T16:00:00.000000000Z\u001b[0m\n",
      "\u001b[1m2024-07-29T16:00:00.000000000Z\u001b[0m [INFO] BACKTESTER-001.BacktestEngine: Batch end:      2025-07-29T15:00:00.000000000Z\u001b[0m\n",
      "\u001b[1m2024-07-29T16:00:00.000000000Z\u001b[0m [INFO] BACKTESTER-001.BacktestEngine: \u001b[36m-----------------------------------------------------------------\u001b[0m\n",
      "\u001b[1m2024-07-29T16:00:00.000000000Z\u001b[0m \u001b[36m[INFO] BACKTESTER-001.EMACross: Bar(BTCUSDT.BINANCE-1-HOUR-LAST-EXTERNAL,68228.01,68304.00,67668.34,68104.00,2569.351640,1722268800000000000)\u001b[0m\n",
      "\u001b[1m2024-07-29T16:00:00.000000000Z\u001b[0m \u001b[94m[INFO] BACKTESTER-001.EMACross: Waiting for indicators to warm up [1]\u001b[0m\n",
      "\u001b[1m2024-07-29T17:00:00.000000000Z\u001b[0m \u001b[36m[INFO] BACKTESTER-001.EMACross: Bar(BTCUSDT.BINANCE-1-HOUR-LAST-EXTERNAL,68103.99,68118.00,66800.00,66940.01,3974.775210,1722272400000000000)\u001b[0m\n",
      "\u001b[1m2024-07-29T17:00:00.000000000Z\u001b[0m \u001b[94m[INFO] BACKTESTER-001.EMACross: Waiting for indicators to warm up [2]\u001b[0m\n",
      "\u001b[1m2024-07-29T18:00:00.000000000Z\u001b[0m \u001b[36m[INFO] BACKTESTER-001.EMACross: Bar(BTCUSDT.BINANCE-1-HOUR-LAST-EXTERNAL,66940.01,67177.52,66428.00,67015.08,3084.772840,1722276000000000000)\u001b[0m\n",
      "\u001b[1m2024-07-29T18:00:00.000000000Z\u001b[0m \u001b[94m[INFO] BACKTESTER-001.EMACross: Waiting for indicators to warm up [3]\u001b[0m\n",
      "\u001b[1m2024-07-29T19:00:00.000000000Z\u001b[0m \u001b[36m[INFO] BACKTESTER-001.EMACross: Bar(BTCUSDT.BINANCE-1-HOUR-LAST-EXTERNAL,67015.09,67547.32,66940.00,67419.99,1330.020080,1722279600000000000)\u001b[0m\n",
      "\u001b[1m2024-07-29T19:00:00.000000000Z\u001b[0m \u001b[94m[INFO] BACKTESTER-001.EMACross: Waiting for indicators to warm up [4]\u001b[0m\n",
      "\u001b[1m2024-07-29T20:00:00.000000000Z\u001b[0m \u001b[36m[INFO] BACKTESTER-001.EMACross: Bar(BTCUSDT.BINANCE-1-HOUR-LAST-EXTERNAL,67419.99,67549.73,67242.99,67303.05,693.951420,1722283200000000000)\u001b[0m\n",
      "\u001b[1m2024-07-29T20:00:00.000000000Z\u001b[0m \u001b[94m[INFO] BACKTESTER-001.EMACross: Waiting for indicators to warm up [5]\u001b[0m\n",
      "\u001b[1m2024-07-29T21:00:00.000000000Z\u001b[0m \u001b[36m[INFO] BACKTESTER-001.EMACross: Bar(BTCUSDT.BINANCE-1-HOUR-LAST-EXTERNAL,67303.05,67392.01,67158.00,67369.99,469.946030,1722286800000000000)\u001b[0m\n",
      "\u001b[1m2024-07-29T21:00:00.000000000Z\u001b[0m \u001b[94m[INFO] BACKTESTER-001.EMACross: Waiting for indicators to warm up [6]\u001b[0m\n",
      "\u001b[1m2024-07-29T22:00:00.000000000Z\u001b[0m \u001b[36m[INFO] BACKTESTER-001.EMACross: Bar(BTCUSDT.BINANCE-1-HOUR-LAST-EXTERNAL,67370.00,67510.01,67030.00,67500.00,717.727310,1722290400000000000)\u001b[0m\n",
      "\u001b[1m2024-07-29T22:00:00.000000000Z\u001b[0m \u001b[94m[INFO] BACKTESTER-001.EMACross: Waiting for indicators to warm up [7]\u001b[0m\n",
      "\u001b[1m2024-07-29T23:00:00.000000000Z\u001b[0m \u001b[36m[INFO] BACKTESTER-001.EMACross: Bar(BTCUSDT.BINANCE-1-HOUR-LAST-EXTERNAL,67499.99,67553.66,67140.00,67227.36,460.759720,1722294000000000000)\u001b[0m\n",
      "\u001b[1m2024-07-29T23:00:00.000000000Z\u001b[0m \u001b[94m[INFO] BACKTESTER-001.EMACross: Waiting for indicators to warm up [8]\u001b[0m\n",
      "\u001b[1m2024-07-30T00:00:00.000000000Z\u001b[0m \u001b[36m[INFO] BACKTESTER-001.EMACross: Bar(BTCUSDT.BINANCE-1-HOUR-LAST-EXTERNAL,67227.35,67264.01,66600.00,66784.69,1215.088840,1722297600000000000)\u001b[0m\n",
      "\u001b[1m2024-07-30T00:00:00.000000000Z\u001b[0m \u001b[94m[INFO] BACKTESTER-001.EMACross: Waiting for indicators to warm up [9]\u001b[0m\n",
      "\u001b[1m2024-07-30T01:00:00.000000000Z\u001b[0m \u001b[36m[INFO] BACKTESTER-001.EMACross: Bar(BTCUSDT.BINANCE-1-HOUR-LAST-EXTERNAL,66784.68,66862.45,65862.00,66610.00,2915.260690,1722301200000000000)\u001b[0m\n",
      "\u001b[1m2024-07-30T01:00:00.000000000Z\u001b[0m \u001b[94m[INFO] BACKTESTER-001.EMACross: Waiting for indicators to warm up [10]\u001b[0m\n",
      "\u001b[1m2024-07-30T02:00:00.000000000Z\u001b[0m \u001b[36m[INFO] BACKTESTER-001.EMACross: Bar(BTCUSDT.BINANCE-1-HOUR-LAST-EXTERNAL,66610.01,66886.00,66060.06,66211.33,1208.750360,1722304800000000000)\u001b[0m\n",
      "\u001b[1m2024-07-30T02:00:00.000000000Z\u001b[0m \u001b[94m[INFO] BACKTESTER-001.EMACross: Waiting for indicators to warm up [11]\u001b[0m\n",
      "\u001b[1m2024-07-30T03:00:00.000000000Z\u001b[0m \u001b[36m[INFO] BACKTESTER-001.EMACross: Bar(BTCUSDT.BINANCE-1-HOUR-LAST-EXTERNAL,66211.32,66477.80,65958.57,66418.01,1133.363750,1722308400000000000)\u001b[0m\n",
      "\u001b[1m2024-07-30T03:00:00.000000000Z\u001b[0m \u001b[94m[INFO] BACKTESTER-001.EMACross: Waiting for indicators to warm up [12]\u001b[0m\n",
      "\u001b[1m2024-07-30T04:00:00.000000000Z\u001b[0m \u001b[36m[INFO] BACKTESTER-001.EMACross: Bar(BTCUSDT.BINANCE-1-HOUR-LAST-EXTERNAL,66418.00,66680.00,66380.00,66610.00,732.364460,1722312000000000000)\u001b[0m\n",
      "\u001b[1m2024-07-30T04:00:00.000000000Z\u001b[0m \u001b[94m[INFO] BACKTESTER-001.EMACross: Waiting for indicators to warm up [13]\u001b[0m\n",
      "\u001b[1m2024-07-30T05:00:00.000000000Z\u001b[0m \u001b[36m[INFO] BACKTESTER-001.EMACross: Bar(BTCUSDT.BINANCE-1-HOUR-LAST-EXTERNAL,66610.00,66808.04,66533.14,66808.04,532.225390,1722315600000000000)\u001b[0m\n",
      "\u001b[1m2024-07-30T05:00:00.000000000Z\u001b[0m \u001b[94m[INFO] BACKTESTER-001.EMACross: Waiting for indicators to warm up [14]\u001b[0m\n",
      "\u001b[1m2024-07-30T06:00:00.000000000Z\u001b[0m \u001b[36m[INFO] BACKTESTER-001.EMACross: Bar(BTCUSDT.BINANCE-1-HOUR-LAST-EXTERNAL,66808.04,66808.04,66322.49,66484.01,729.740930,1722319200000000000)\u001b[0m\n",
      "\u001b[1m2024-07-30T06:00:00.000000000Z\u001b[0m \u001b[94m[INFO] BACKTESTER-001.EMACross: Waiting for indicators to warm up [15]\u001b[0m\n",
      "\u001b[1m2024-07-30T07:00:00.000000000Z\u001b[0m \u001b[36m[INFO] BACKTESTER-001.EMACross: Bar(BTCUSDT.BINANCE-1-HOUR-LAST-EXTERNAL,66484.01,66775.00,66464.17,66766.01,399.625070,1722322800000000000)\u001b[0m\n",
      "\u001b[1m2024-07-30T07:00:00.000000000Z\u001b[0m \u001b[94m[INFO] BACKTESTER-001.EMACross: Waiting for indicators to warm up [16]\u001b[0m\n",
      "\u001b[1m2024-07-30T08:00:00.000000000Z\u001b[0m \u001b[36m[INFO] BACKTESTER-001.EMACross: Bar(BTCUSDT.BINANCE-1-HOUR-LAST-EXTERNAL,66766.00,67000.00,66766.00,66952.00,834.681490,1722326400000000000)\u001b[0m\n",
      "\u001b[1m2024-07-30T08:00:00.000000000Z\u001b[0m \u001b[94m[INFO] BACKTESTER-001.EMACross: Waiting for indicators to warm up [17]\u001b[0m\n",
      "\u001b[1m2024-07-30T09:00:00.000000000Z\u001b[0m \u001b[36m[INFO] BACKTESTER-001.EMACross: Bar(BTCUSDT.BINANCE-1-HOUR-LAST-EXTERNAL,66952.00,66999.92,66712.00,66772.01,687.687170,1722330000000000000)\u001b[0m\n",
      "\u001b[1m2024-07-30T09:00:00.000000000Z\u001b[0m \u001b[94m[INFO] BACKTESTER-001.EMACross: Waiting for indicators to warm up [18]\u001b[0m\n",
      "\u001b[1m2024-07-30T10:00:00.000000000Z\u001b[0m \u001b[36m[INFO] BACKTESTER-001.EMACross: Bar(BTCUSDT.BINANCE-1-HOUR-LAST-EXTERNAL,66772.01,66900.56,66444.00,66608.01,562.091590,1722333600000000000)\u001b[0m\n",
      "\u001b[1m2024-07-30T10:00:00.000000000Z\u001b[0m \u001b[94m[INFO] BACKTESTER-001.EMACross: Waiting for indicators to warm up [19]\u001b[0m\n",
      "\u001b[1m2024-07-30T11:00:00.000000000Z\u001b[0m \u001b[36m[INFO] BACKTESTER-001.EMACross: Bar(BTCUSDT.BINANCE-1-HOUR-LAST-EXTERNAL,66608.01,66687.34,66404.53,66581.87,601.073580,1722337200000000000)\u001b[0m\n",
      "\u001b[1m2024-07-30T11:00:00.000000000Z\u001b[0m \u001b[94m[INFO] BACKTESTER-001.EMACross: Waiting for indicators to warm up [20]\u001b[0m\n",
      "\u001b[1m2024-07-30T12:00:00.000000000Z\u001b[0m \u001b[36m[INFO] BACKTESTER-001.EMACross: Bar(BTCUSDT.BINANCE-1-HOUR-LAST-EXTERNAL,66581.88,66720.00,66488.71,66574.01,476.423420,1722340800000000000)\u001b[0m\n",
      "\u001b[1m2024-07-30T12:00:00.000000000Z\u001b[0m \u001b[94m[INFO] BACKTESTER-001.EMACross: Waiting for indicators to warm up [21]\u001b[0m\n",
      "\u001b[1m2024-07-30T13:00:00.000000000Z\u001b[0m \u001b[36m[INFO] BACKTESTER-001.EMACross: Bar(BTCUSDT.BINANCE-1-HOUR-LAST-EXTERNAL,66574.00,66820.01,66233.07,66668.00,1202.546120,1722344400000000000)\u001b[0m\n",
      "\u001b[1m2024-07-30T13:00:00.000000000Z\u001b[0m \u001b[94m[INFO] BACKTESTER-001.EMACross: Waiting for indicators to warm up [22]\u001b[0m\n",
      "\u001b[1m2024-07-30T14:00:00.000000000Z\u001b[0m \u001b[36m[INFO] BACKTESTER-001.EMACross: Bar(BTCUSDT.BINANCE-1-HOUR-LAST-EXTERNAL,66668.01,66948.00,66332.61,66381.99,908.663870,1722348000000000000)\u001b[0m\n",
      "\u001b[1m2024-07-30T14:00:00.000000000Z\u001b[0m \u001b[94m[INFO] BACKTESTER-001.EMACross: Waiting for indicators to warm up [23]\u001b[0m\n",
      "\u001b[1m2024-07-30T15:00:00.000000000Z\u001b[0m \u001b[36m[INFO] BACKTESTER-001.EMACross: Bar(BTCUSDT.BINANCE-1-HOUR-LAST-EXTERNAL,66382.00,66449.99,65660.89,65810.00,2571.180050,1722351600000000000)\u001b[0m\n",
      "\u001b[1m2024-07-30T15:00:00.000000000Z\u001b[0m \u001b[94m[INFO] BACKTESTER-001.EMACross: Waiting for indicators to warm up [24]\u001b[0m\n",
      "\u001b[1m2024-07-30T16:00:00.000000000Z\u001b[0m \u001b[36m[INFO] BACKTESTER-001.EMACross: Bar(BTCUSDT.BINANCE-1-HOUR-LAST-EXTERNAL,65810.01,66332.01,65555.00,66216.01,1403.788890,1722355200000000000)\u001b[0m\n",
      "\u001b[1m2024-07-30T16:00:00.000000000Z\u001b[0m \u001b[94m[INFO] BACKTESTER-001.EMACross: Waiting for indicators to warm up [25]\u001b[0m\n",
      "\u001b[1m2024-07-30T17:00:00.000000000Z\u001b[0m \u001b[36m[INFO] BACKTESTER-001.EMACross: Bar(BTCUSDT.BINANCE-1-HOUR-LAST-EXTERNAL,66216.01,66550.01,66145.00,66180.01,629.106070,1722358800000000000)\u001b[0m\n",
      "\u001b[1m2024-07-30T17:00:00.000000000Z\u001b[0m \u001b[94m[INFO] BACKTESTER-001.EMACross: Waiting for indicators to warm up [26]\u001b[0m\n",
      "\u001b[1m2024-07-30T18:00:00.000000000Z\u001b[0m \u001b[36m[INFO] BACKTESTER-001.EMACross: Bar(BTCUSDT.BINANCE-1-HOUR-LAST-EXTERNAL,66180.02,66210.01,65684.68,65868.01,1013.370530,1722362400000000000)\u001b[0m\n",
      "\u001b[1m2024-07-30T18:00:00.000000000Z\u001b[0m \u001b[94m[INFO] BACKTESTER-001.EMACross: Waiting for indicators to warm up [27]\u001b[0m\n",
      "\u001b[1m2024-07-30T19:00:00.000000000Z\u001b[0m \u001b[36m[INFO] BACKTESTER-001.EMACross: Bar(BTCUSDT.BINANCE-1-HOUR-LAST-EXTERNAL,65868.01,66074.98,65600.00,65824.01,857.839460,1722366000000000000)\u001b[0m\n",
      "\u001b[1m2024-07-30T19:00:00.000000000Z\u001b[0m \u001b[94m[INFO] BACKTESTER-001.EMACross: Waiting for indicators to warm up [28]\u001b[0m\n",
      "\u001b[1m2024-07-30T20:00:00.000000000Z\u001b[0m \u001b[36m[INFO] BACKTESTER-001.EMACross: Bar(BTCUSDT.BINANCE-1-HOUR-LAST-EXTERNAL,65824.00,66008.01,65556.56,65931.02,950.332710,1722369600000000000)\u001b[0m\n",
      "\u001b[1m2024-07-30T20:00:00.000000000Z\u001b[0m \u001b[94m[INFO] BACKTESTER-001.EMACross: Waiting for indicators to warm up [29]\u001b[0m\n",
      "\u001b[1m2024-07-30T21:00:00.000000000Z\u001b[0m \u001b[36m[INFO] BACKTESTER-001.EMACross: Bar(BTCUSDT.BINANCE-1-HOUR-LAST-EXTERNAL,65931.03,66240.00,65302.67,66186.01,1780.275060,1722373200000000000)\u001b[0m\n",
      "\u001b[1m2024-07-30T21:00:00.000000000Z\u001b[0m \u001b[94m[INFO] BACKTESTER-001.EMACross: Waiting for indicators to warm up [30]\u001b[0m\n",
      "\u001b[1m2024-07-30T22:00:00.000000000Z\u001b[0m \u001b[36m[INFO] BACKTESTER-001.EMACross: Bar(BTCUSDT.BINANCE-1-HOUR-LAST-EXTERNAL,66186.00,66312.80,65942.00,66304.00,409.685690,1722376800000000000)\u001b[0m\n",
      "\u001b[1m2024-07-30T22:00:00.000000000Z\u001b[0m \u001b[94m[INFO] BACKTESTER-001.EMACross: Waiting for indicators to warm up [31]\u001b[0m\n",
      "\u001b[1m2024-07-30T23:00:00.000000000Z\u001b[0m \u001b[36m[INFO] BACKTESTER-001.EMACross: Bar(BTCUSDT.BINANCE-1-HOUR-LAST-EXTERNAL,66304.00,66356.89,66072.43,66222.00,379.017010,1722380400000000000)\u001b[0m\n",
      "\u001b[1m2024-07-30T23:00:00.000000000Z\u001b[0m \u001b[94m[INFO] BACKTESTER-001.EMACross: Waiting for indicators to warm up [32]\u001b[0m\n",
      "\u001b[1m2024-07-31T00:00:00.000000000Z\u001b[0m \u001b[36m[INFO] BACKTESTER-001.EMACross: Bar(BTCUSDT.BINANCE-1-HOUR-LAST-EXTERNAL,66222.00,66307.50,66130.00,66188.00,213.161050,1722384000000000000)\u001b[0m\n",
      "\u001b[1m2024-07-31T00:00:00.000000000Z\u001b[0m \u001b[94m[INFO] BACKTESTER-001.EMACross: Waiting for indicators to warm up [33]\u001b[0m\n",
      "\u001b[1m2024-07-31T01:00:00.000000000Z\u001b[0m \u001b[36m[INFO] BACKTESTER-001.EMACross: Bar(BTCUSDT.BINANCE-1-HOUR-LAST-EXTERNAL,66188.00,66413.00,65881.96,66344.00,619.042810,1722387600000000000)\u001b[0m\n",
      "\u001b[1m2024-07-31T01:00:00.000000000Z\u001b[0m \u001b[94m[INFO] BACKTESTER-001.EMACross: Waiting for indicators to warm up [34]\u001b[0m\n",
      "\u001b[1m2024-07-31T02:00:00.000000000Z\u001b[0m \u001b[36m[INFO] BACKTESTER-001.EMACross: Bar(BTCUSDT.BINANCE-1-HOUR-LAST-EXTERNAL,66344.01,66404.01,66104.00,66296.00,334.009520,1722391200000000000)\u001b[0m\n",
      "\u001b[1m2024-07-31T02:00:00.000000000Z\u001b[0m \u001b[94m[INFO] BACKTESTER-001.EMACross: Waiting for indicators to warm up [35]\u001b[0m\n",
      "\u001b[1m2024-07-31T03:00:00.000000000Z\u001b[0m \u001b[36m[INFO] BACKTESTER-001.EMACross: Bar(BTCUSDT.BINANCE-1-HOUR-LAST-EXTERNAL,66295.99,66413.28,66068.63,66122.16,399.739980,1722394800000000000)\u001b[0m\n",
      "\u001b[1m2024-07-31T03:00:00.000000000Z\u001b[0m \u001b[94m[INFO] BACKTESTER-001.EMACross: Waiting for indicators to warm up [36]\u001b[0m\n",
      "\u001b[1m2024-07-31T04:00:00.000000000Z\u001b[0m \u001b[36m[INFO] BACKTESTER-001.EMACross: Bar(BTCUSDT.BINANCE-1-HOUR-LAST-EXTERNAL,66122.17,66228.86,66026.12,66058.00,372.447840,1722398400000000000)\u001b[0m\n",
      "\u001b[1m2024-07-31T04:00:00.000000000Z\u001b[0m \u001b[94m[INFO] BACKTESTER-001.EMACross: Waiting for indicators to warm up [37]\u001b[0m\n",
      "\u001b[1m2024-07-31T05:00:00.000000000Z\u001b[0m \u001b[36m[INFO] BACKTESTER-001.EMACross: Bar(BTCUSDT.BINANCE-1-HOUR-LAST-EXTERNAL,66058.00,66092.00,65496.00,65804.00,899.701320,1722402000000000000)\u001b[0m\n",
      "\u001b[1m2024-07-31T05:00:00.000000000Z\u001b[0m \u001b[94m[INFO] BACKTESTER-001.EMACross: Waiting for indicators to warm up [38]\u001b[0m\n",
      "\u001b[1m2024-07-31T06:00:00.000000000Z\u001b[0m \u001b[36m[INFO] BACKTESTER-001.EMACross: Bar(BTCUSDT.BINANCE-1-HOUR-LAST-EXTERNAL,65804.00,66221.55,65578.51,66175.52,906.317050,1722405600000000000)\u001b[0m\n",
      "\u001b[1m2024-07-31T06:00:00.000000000Z\u001b[0m \u001b[94m[INFO] BACKTESTER-001.EMACross: Waiting for indicators to warm up [39]\u001b[0m\n",
      "\u001b[1m2024-07-31T07:00:00.000000000Z\u001b[0m \u001b[36m[INFO] BACKTESTER-001.EMACross: Bar(BTCUSDT.BINANCE-1-HOUR-LAST-EXTERNAL,66175.53,66554.40,66120.60,66459.99,1123.264620,1722409200000000000)\u001b[0m\n",
      "\u001b[1m2024-07-31T07:00:00.000000000Z\u001b[0m \u001b[94m[INFO] BACKTESTER-001.EMACross: Waiting for indicators to warm up [40]\u001b[0m\n",
      "\u001b[1m2024-07-31T08:00:00.000000000Z\u001b[0m \u001b[36m[INFO] BACKTESTER-001.EMACross: Bar(BTCUSDT.BINANCE-1-HOUR-LAST-EXTERNAL,66460.00,66527.11,66213.00,66224.00,447.508070,1722412800000000000)\u001b[0m\n",
      "\u001b[1m2024-07-31T08:00:00.000000000Z\u001b[0m \u001b[94m[INFO] BACKTESTER-001.EMACross: Waiting for indicators to warm up [41]\u001b[0m\n",
      "\u001b[1m2024-07-31T09:00:00.000000000Z\u001b[0m \u001b[36m[INFO] BACKTESTER-001.EMACross: Bar(BTCUSDT.BINANCE-1-HOUR-LAST-EXTERNAL,66224.00,66370.00,66044.00,66312.01,609.608510,1722416400000000000)\u001b[0m\n",
      "\u001b[1m2024-07-31T09:00:00.000000000Z\u001b[0m \u001b[94m[INFO] BACKTESTER-001.EMACross: Waiting for indicators to warm up [42]\u001b[0m\n",
      "\u001b[1m2024-07-31T10:00:00.000000000Z\u001b[0m \u001b[36m[INFO] BACKTESTER-001.EMACross: Bar(BTCUSDT.BINANCE-1-HOUR-LAST-EXTERNAL,66312.01,66374.01,66162.37,66262.00,347.224710,1722420000000000000)\u001b[0m\n",
      "\u001b[1m2024-07-31T10:00:00.000000000Z\u001b[0m \u001b[94m[INFO] BACKTESTER-001.EMACross: Waiting for indicators to warm up [43]\u001b[0m\n",
      "\u001b[1m2024-07-31T11:00:00.000000000Z\u001b[0m \u001b[36m[INFO] BACKTESTER-001.EMACross: Bar(BTCUSDT.BINANCE-1-HOUR-LAST-EXTERNAL,66262.01,66262.01,65954.54,65992.00,516.069560,1722423600000000000)\u001b[0m\n",
      "\u001b[1m2024-07-31T11:00:00.000000000Z\u001b[0m \u001b[94m[INFO] BACKTESTER-001.EMACross: Waiting for indicators to warm up [44]\u001b[0m\n",
      "\u001b[1m2024-07-31T12:00:00.000000000Z\u001b[0m \u001b[36m[INFO] BACKTESTER-001.EMACross: Bar(BTCUSDT.BINANCE-1-HOUR-LAST-EXTERNAL,65992.00,66144.00,65958.00,66094.01,356.842860,1722427200000000000)\u001b[0m\n",
      "\u001b[1m2024-07-31T12:00:00.000000000Z\u001b[0m \u001b[94m[INFO] BACKTESTER-001.EMACross: Waiting for indicators to warm up [45]\u001b[0m\n",
      "\u001b[1m2024-07-31T13:00:00.000000000Z\u001b[0m \u001b[36m[INFO] BACKTESTER-001.EMACross: Bar(BTCUSDT.BINANCE-1-HOUR-LAST-EXTERNAL,66094.01,66294.00,66000.00,66153.82,553.779110,1722430800000000000)\u001b[0m\n",
      "\u001b[1m2024-07-31T13:00:00.000000000Z\u001b[0m \u001b[94m[INFO] BACKTESTER-001.EMACross: Waiting for indicators to warm up [46]\u001b[0m\n",
      "\u001b[1m2024-07-31T14:00:00.000000000Z\u001b[0m \u001b[36m[INFO] BACKTESTER-001.EMACross: Bar(BTCUSDT.BINANCE-1-HOUR-LAST-EXTERNAL,66153.82,66849.24,66136.00,66508.00,1327.058830,1722434400000000000)\u001b[0m\n",
      "\u001b[1m2024-07-31T14:00:00.000000000Z\u001b[0m \u001b[94m[INFO] BACKTESTER-001.EMACross: Waiting for indicators to warm up [47]\u001b[0m\n",
      "\u001b[1m2024-07-31T15:00:00.000000000Z\u001b[0m \u001b[36m[INFO] BACKTESTER-001.EMACross: Bar(BTCUSDT.BINANCE-1-HOUR-LAST-EXTERNAL,66508.01,66733.02,65963.25,66440.00,1822.664590,1722438000000000000)\u001b[0m\n",
      "\u001b[1m2024-07-31T15:00:00.000000000Z\u001b[0m \u001b[94m[INFO] BACKTESTER-001.EMACross: Waiting for indicators to warm up [48]\u001b[0m\n",
      "\u001b[1m2024-07-31T16:00:00.000000000Z\u001b[0m \u001b[36m[INFO] BACKTESTER-001.EMACross: Bar(BTCUSDT.BINANCE-1-HOUR-LAST-EXTERNAL,66440.01,66560.01,66326.00,66379.99,663.878160,1722441600000000000)\u001b[0m\n",
      "\u001b[1m2024-07-31T16:00:00.000000000Z\u001b[0m \u001b[94m[INFO] BACKTESTER-001.EMACross: Waiting for indicators to warm up [49]\u001b[0m\n",
      "\u001b[1m2024-07-31T17:00:00.000000000Z\u001b[0m \u001b[36m[INFO] BACKTESTER-001.EMACross: Bar(BTCUSDT.BINANCE-1-HOUR-LAST-EXTERNAL,66379.99,66751.32,66287.87,66362.00,678.149560,1722445200000000000)\u001b[0m\n",
      "\u001b[1m2024-07-31T17:00:00.000000000Z\u001b[0m \u001b[94m[INFO] BACKTESTER-001.EMACross: Waiting for indicators to warm up [50]\u001b[0m\n",
      "\u001b[1m2024-07-31T18:00:00.000000000Z\u001b[0m \u001b[36m[INFO] BACKTESTER-001.EMACross: Bar(BTCUSDT.BINANCE-1-HOUR-LAST-EXTERNAL,66362.01,66836.30,66303.84,66686.00,716.249770,1722448800000000000)\u001b[0m\n",
      "\u001b[1m2024-07-31T18:00:00.000000000Z\u001b[0m \u001b[94m[INFO] BACKTESTER-001.EMACross: Waiting for indicators to warm up [51]\u001b[0m\n",
      "\u001b[1m2024-07-31T19:00:00.000000000Z\u001b[0m \u001b[36m[INFO] BACKTESTER-001.EMACross: Bar(BTCUSDT.BINANCE-1-HOUR-LAST-EXTERNAL,66686.01,66733.99,66138.00,66527.99,1237.290650,1722452400000000000)\u001b[0m\n",
      "\u001b[1m2024-07-31T19:00:00.000000000Z\u001b[0m \u001b[94m[INFO] BACKTESTER-001.EMACross: Waiting for indicators to warm up [52]\u001b[0m\n",
      "\u001b[1m2024-07-31T20:00:00.000000000Z\u001b[0m \u001b[36m[INFO] BACKTESTER-001.EMACross: Bar(BTCUSDT.BINANCE-1-HOUR-LAST-EXTERNAL,66527.99,66649.12,64957.14,65256.83,3777.683190,1722456000000000000)\u001b[0m\n",
      "\u001b[1m2024-07-31T20:00:00.000000000Z\u001b[0m \u001b[94m[INFO] BACKTESTER-001.EMACross: Waiting for indicators to warm up [53]\u001b[0m\n",
      "\u001b[1m2024-07-31T21:00:00.000000000Z\u001b[0m \u001b[36m[INFO] BACKTESTER-001.EMACross: Bar(BTCUSDT.BINANCE-1-HOUR-LAST-EXTERNAL,65256.83,65422.00,64543.57,64595.81,2050.405840,1722459600000000000)\u001b[0m\n",
      "\u001b[1m2024-07-31T21:00:00.000000000Z\u001b[0m \u001b[94m[INFO] BACKTESTER-001.EMACross: Waiting for indicators to warm up [54]\u001b[0m\n",
      "\u001b[1m2024-07-31T22:00:00.000000000Z\u001b[0m \u001b[36m[INFO] BACKTESTER-001.EMACross: Bar(BTCUSDT.BINANCE-1-HOUR-LAST-EXTERNAL,64595.81,65136.04,64530.00,64978.00,1450.509230,1722463200000000000)\u001b[0m\n",
      "\u001b[1m2024-07-31T22:00:00.000000000Z\u001b[0m \u001b[94m[INFO] BACKTESTER-001.EMACross: Waiting for indicators to warm up [55]\u001b[0m\n",
      "\u001b[1m2024-07-31T23:00:00.000000000Z\u001b[0m \u001b[36m[INFO] BACKTESTER-001.EMACross: Bar(BTCUSDT.BINANCE-1-HOUR-LAST-EXTERNAL,64978.00,65058.00,64634.00,64980.01,730.428840,1722466800000000000)\u001b[0m\n",
      "\u001b[1m2024-07-31T23:00:00.000000000Z\u001b[0m \u001b[94m[INFO] BACKTESTER-001.EMACross: Waiting for indicators to warm up [56]\u001b[0m\n",
      "\u001b[1m2024-08-01T00:00:00.000000000Z\u001b[0m \u001b[36m[INFO] BACKTESTER-001.EMACross: Bar(BTCUSDT.BINANCE-1-HOUR-LAST-EXTERNAL,64980.01,64996.00,64627.97,64628.00,685.564430,1722470400000000000)\u001b[0m\n",
      "\u001b[1m2024-08-01T00:00:00.000000000Z\u001b[0m \u001b[94m[INFO] BACKTESTER-001.EMACross: Waiting for indicators to warm up [57]\u001b[0m\n",
      "\u001b[1m2024-08-01T01:00:00.000000000Z\u001b[0m \u001b[36m[INFO] BACKTESTER-001.EMACross: Bar(BTCUSDT.BINANCE-1-HOUR-LAST-EXTERNAL,64628.01,64841.29,64316.55,64645.90,1271.229410,1722474000000000000)\u001b[0m\n",
      "\u001b[1m2024-08-01T01:00:00.000000000Z\u001b[0m \u001b[94m[INFO] BACKTESTER-001.EMACross: Waiting for indicators to warm up [58]\u001b[0m\n",
      "\u001b[1m2024-08-01T02:00:00.000000000Z\u001b[0m \u001b[36m[INFO] BACKTESTER-001.EMACross: Bar(BTCUSDT.BINANCE-1-HOUR-LAST-EXTERNAL,64645.90,64816.01,64099.00,64202.00,1394.763240,1722477600000000000)\u001b[0m\n",
      "\u001b[1m2024-08-01T02:00:00.000000000Z\u001b[0m \u001b[94m[INFO] BACKTESTER-001.EMACross: Waiting for indicators to warm up [59]\u001b[0m\n",
      "\u001b[1m2024-08-01T03:00:00.000000000Z\u001b[0m \u001b[36m[INFO] BACKTESTER-001.EMACross: Bar(BTCUSDT.BINANCE-1-HOUR-LAST-EXTERNAL,64202.00,64254.00,63900.00,64110.01,1829.249390,1722481200000000000)\u001b[0m\n",
      "\u001b[1m2024-08-01T03:00:00.000000000Z\u001b[0m \u001b[94m[INFO] BACKTESTER-001.EMACross: Waiting for indicators to warm up [60]\u001b[0m\n",
      "\u001b[1m2024-08-01T04:00:00.000000000Z\u001b[0m \u001b[36m[INFO] BACKTESTER-001.EMACross: Bar(BTCUSDT.BINANCE-1-HOUR-LAST-EXTERNAL,64110.00,64139.82,63750.00,63936.01,1273.191280,1722484800000000000)\u001b[0m\n",
      "\u001b[1m2024-08-01T04:00:00.000000000Z\u001b[0m \u001b[94m[INFO] BACKTESTER-001.EMACross: Waiting for indicators to warm up [61]\u001b[0m\n",
      "\u001b[1m2024-08-01T05:00:00.000000000Z\u001b[0m \u001b[36m[INFO] BACKTESTER-001.EMACross: Bar(BTCUSDT.BINANCE-1-HOUR-LAST-EXTERNAL,63936.01,64058.00,63613.33,63740.41,1258.107050,1722488400000000000)\u001b[0m\n",
      "\u001b[1m2024-08-01T05:00:00.000000000Z\u001b[0m \u001b[94m[INFO] BACKTESTER-001.EMACross: Waiting for indicators to warm up [62]\u001b[0m\n",
      "\u001b[1m2024-08-01T06:00:00.000000000Z\u001b[0m \u001b[36m[INFO] BACKTESTER-001.EMACross: Bar(BTCUSDT.BINANCE-1-HOUR-LAST-EXTERNAL,63740.41,64357.38,63584.00,64303.99,1574.313380,1722492000000000000)\u001b[0m\n",
      "\u001b[1m2024-08-01T06:00:00.000000000Z\u001b[0m \u001b[94m[INFO] BACKTESTER-001.EMACross: Waiting for indicators to warm up [63]\u001b[0m\n",
      "\u001b[1m2024-08-01T07:00:00.000000000Z\u001b[0m \u001b[36m[INFO] BACKTESTER-001.EMACross: Bar(BTCUSDT.BINANCE-1-HOUR-LAST-EXTERNAL,64304.00,64454.00,64124.00,64226.00,767.673040,1722495600000000000)\u001b[0m\n",
      "\u001b[1m2024-08-01T07:00:00.000000000Z\u001b[0m \u001b[94m[INFO] BACKTESTER-001.EMACross: Waiting for indicators to warm up [64]\u001b[0m\n",
      "\u001b[1m2024-08-01T08:00:00.000000000Z\u001b[0m \u001b[36m[INFO] BACKTESTER-001.EMACross: Bar(BTCUSDT.BINANCE-1-HOUR-LAST-EXTERNAL,64226.00,64488.00,64216.71,64328.59,507.428390,1722499200000000000)\u001b[0m\n",
      "\u001b[1m2024-08-01T08:00:00.000000000Z\u001b[0m \u001b[94m[INFO] BACKTESTER-001.EMACross: Waiting for indicators to warm up [65]\u001b[0m\n",
      "\u001b[1m2024-08-01T09:00:00.000000000Z\u001b[0m \u001b[36m[INFO] BACKTESTER-001.EMACross: Bar(BTCUSDT.BINANCE-1-HOUR-LAST-EXTERNAL,64328.60,64560.01,64310.00,64507.17,671.752580,1722502800000000000)\u001b[0m\n",
      "\u001b[1m2024-08-01T09:00:00.000000000Z\u001b[0m \u001b[94m[INFO] BACKTESTER-001.EMACross: Waiting for indicators to warm up [66]\u001b[0m\n",
      "\u001b[1m2024-08-01T10:00:00.000000000Z\u001b[0m \u001b[36m[INFO] BACKTESTER-001.EMACross: Bar(BTCUSDT.BINANCE-1-HOUR-LAST-EXTERNAL,64507.18,64701.41,64441.20,64466.00,741.118210,1722506400000000000)\u001b[0m\n",
      "\u001b[1m2024-08-01T10:00:00.000000000Z\u001b[0m \u001b[94m[INFO] BACKTESTER-001.EMACross: Waiting for indicators to warm up [67]\u001b[0m\n",
      "\u001b[1m2024-08-01T11:00:00.000000000Z\u001b[0m \u001b[36m[INFO] BACKTESTER-001.EMACross: Bar(BTCUSDT.BINANCE-1-HOUR-LAST-EXTERNAL,64466.01,64610.01,64299.87,64584.55,679.914550,1722510000000000000)\u001b[0m\n",
      "\u001b[1m2024-08-01T11:00:00.000000000Z\u001b[0m \u001b[94m[INFO] BACKTESTER-001.EMACross: Waiting for indicators to warm up [68]\u001b[0m\n",
      "\u001b[1m2024-08-01T12:00:00.000000000Z\u001b[0m \u001b[36m[INFO] BACKTESTER-001.EMACross: Bar(BTCUSDT.BINANCE-1-HOUR-LAST-EXTERNAL,64584.54,64690.00,64467.40,64674.25,562.261610,1722513600000000000)\u001b[0m\n",
      "\u001b[1m2024-08-01T12:00:00.000000000Z\u001b[0m \u001b[94m[INFO] BACKTESTER-001.EMACross: Waiting for indicators to warm up [69]\u001b[0m\n",
      "\u001b[1m2024-08-01T13:00:00.000000000Z\u001b[0m \u001b[36m[INFO] BACKTESTER-001.EMACross: Bar(BTCUSDT.BINANCE-1-HOUR-LAST-EXTERNAL,64674.26,64926.52,64634.89,64883.98,793.666580,1722517200000000000)\u001b[0m\n",
      "\u001b[1m2024-08-01T13:00:00.000000000Z\u001b[0m \u001b[94m[INFO] BACKTESTER-001.EMACross: Waiting for indicators to warm up [70]\u001b[0m\n",
      "\u001b[1m2024-08-01T14:00:00.000000000Z\u001b[0m \u001b[36m[INFO] BACKTESTER-001.EMACross: Bar(BTCUSDT.BINANCE-1-HOUR-LAST-EXTERNAL,64883.99,64949.58,64466.21,64754.03,824.858900,1722520800000000000)\u001b[0m\n",
      "\u001b[1m2024-08-01T14:00:00.000000000Z\u001b[0m \u001b[94m[INFO] BACKTESTER-001.EMACross: Waiting for indicators to warm up [71]\u001b[0m\n",
      "\u001b[1m2024-08-01T15:00:00.000000000Z\u001b[0m \u001b[36m[INFO] BACKTESTER-001.EMACross: Bar(BTCUSDT.BINANCE-1-HOUR-LAST-EXTERNAL,64754.02,64776.75,63928.10,63935.83,1520.440350,1722524400000000000)\u001b[0m\n",
      "\u001b[1m2024-08-01T15:00:00.000000000Z\u001b[0m \u001b[94m[INFO] BACKTESTER-001.EMACross: Waiting for indicators to warm up [72]\u001b[0m\n",
      "\u001b[1m2024-08-01T16:00:00.000000000Z\u001b[0m \u001b[36m[INFO] BACKTESTER-001.EMACross: Bar(BTCUSDT.BINANCE-1-HOUR-LAST-EXTERNAL,63935.83,63962.00,62666.07,62906.60,4867.579640,1722528000000000000)\u001b[0m\n",
      "\u001b[1m2024-08-01T16:00:00.000000000Z\u001b[0m \u001b[94m[INFO] BACKTESTER-001.EMACross: Waiting for indicators to warm up [73]\u001b[0m\n",
      "\u001b[1m2024-08-01T17:00:00.000000000Z\u001b[0m \u001b[36m[INFO] BACKTESTER-001.EMACross: Bar(BTCUSDT.BINANCE-1-HOUR-LAST-EXTERNAL,62907.44,63203.99,62652.55,62908.00,2247.414290,1722531600000000000)\u001b[0m\n",
      "\u001b[1m2024-08-01T17:00:00.000000000Z\u001b[0m \u001b[94m[INFO] BACKTESTER-001.EMACross: Waiting for indicators to warm up [74]\u001b[0m\n",
      "\u001b[1m2024-08-01T18:00:00.000000000Z\u001b[0m \u001b[36m[INFO] BACKTESTER-001.EMACross: Bar(BTCUSDT.BINANCE-1-HOUR-LAST-EXTERNAL,62908.01,63254.82,62302.00,63220.00,2830.782770,1722535200000000000)\u001b[0m\n",
      "\u001b[1m2024-08-01T18:00:00.000000000Z\u001b[0m \u001b[94m[INFO] BACKTESTER-001.EMACross: Waiting for indicators to warm up [75]\u001b[0m\n",
      "\u001b[1m2024-08-01T19:00:00.000000000Z\u001b[0m \u001b[36m[INFO] BACKTESTER-001.EMACross: Bar(BTCUSDT.BINANCE-1-HOUR-LAST-EXTERNAL,63220.00,63435.75,62811.26,62954.00,2268.819970,1722538800000000000)\u001b[0m\n",
      "\u001b[1m2024-08-01T19:00:00.000000000Z\u001b[0m \u001b[94m[INFO] BACKTESTER-001.EMACross: Waiting for indicators to warm up [76]\u001b[0m\n",
      "\u001b[1m2024-08-01T20:00:00.000000000Z\u001b[0m \u001b[36m[INFO] BACKTESTER-001.EMACross: Bar(BTCUSDT.BINANCE-1-HOUR-LAST-EXTERNAL,62953.99,63509.83,62944.01,63422.01,1194.879280,1722542400000000000)\u001b[0m\n",
      "\u001b[1m2024-08-01T20:00:00.000000000Z\u001b[0m \u001b[94m[INFO] BACKTESTER-001.EMACross: Waiting for indicators to warm up [77]\u001b[0m\n",
      "\u001b[1m2024-08-01T21:00:00.000000000Z\u001b[0m \u001b[36m[INFO] BACKTESTER-001.EMACross: Bar(BTCUSDT.BINANCE-1-HOUR-LAST-EXTERNAL,63422.01,64776.00,63336.61,64760.00,2346.970890,1722546000000000000)\u001b[0m\n",
      "\u001b[1m2024-08-01T21:00:00.000000000Z\u001b[0m \u001b[94m[INFO] BACKTESTER-001.EMACross: Waiting for indicators to warm up [78]\u001b[0m\n",
      "\u001b[1m2024-08-01T22:00:00.000000000Z\u001b[0m \u001b[36m[INFO] BACKTESTER-001.EMACross: Bar(BTCUSDT.BINANCE-1-HOUR-LAST-EXTERNAL,64760.01,65356.00,64628.01,64889.03,1718.448240,1722549600000000000)\u001b[0m\n",
      "\u001b[1m2024-08-01T22:00:00.000000000Z\u001b[0m \u001b[94m[INFO] BACKTESTER-001.EMACross: Waiting for indicators to warm up [79]\u001b[0m\n",
      "\u001b[1m2024-08-01T23:00:00.000000000Z\u001b[0m \u001b[36m[INFO] BACKTESTER-001.EMACross: Bar(BTCUSDT.BINANCE-1-HOUR-LAST-EXTERNAL,64889.04,65659.78,64869.49,65184.37,1352.780350,1722553200000000000)\u001b[0m\n",
      "\u001b[1m2024-08-01T23:00:00.000000000Z\u001b[0m \u001b[94m[INFO] BACKTESTER-001.EMACross: Waiting for indicators to warm up [80]\u001b[0m\n",
      "\u001b[1m2024-08-02T00:00:00.000000000Z\u001b[0m \u001b[36m[INFO] BACKTESTER-001.EMACross: Bar(BTCUSDT.BINANCE-1-HOUR-LAST-EXTERNAL,65184.37,65470.84,65000.00,65354.02,1044.625150,1722556800000000000)\u001b[0m\n",
      "\u001b[1m2024-08-02T00:00:00.000000000Z\u001b[0m \u001b[94m[INFO] BACKTESTER-001.EMACross: Waiting for indicators to warm up [81]\u001b[0m\n",
      "\u001b[1m2024-08-02T01:00:00.000000000Z\u001b[0m \u001b[36m[INFO] BACKTESTER-001.EMACross: Bar(BTCUSDT.BINANCE-1-HOUR-LAST-EXTERNAL,65354.02,65596.14,64895.83,64897.99,882.434360,1722560400000000000)\u001b[0m\n",
      "\u001b[1m2024-08-02T01:00:00.000000000Z\u001b[0m \u001b[94m[INFO] BACKTESTER-001.EMACross: Waiting for indicators to warm up [82]\u001b[0m\n",
      "\u001b[1m2024-08-02T02:00:00.000000000Z\u001b[0m \u001b[36m[INFO] BACKTESTER-001.EMACross: Bar(BTCUSDT.BINANCE-1-HOUR-LAST-EXTERNAL,64898.00,64898.00,64548.01,64647.99,936.149810,1722564000000000000)\u001b[0m\n",
      "\u001b[1m2024-08-02T02:00:00.000000000Z\u001b[0m \u001b[94m[INFO] BACKTESTER-001.EMACross: Waiting for indicators to warm up [83]\u001b[0m\n",
      "\u001b[1m2024-08-02T03:00:00.000000000Z\u001b[0m \u001b[36m[INFO] BACKTESTER-001.EMACross: Bar(BTCUSDT.BINANCE-1-HOUR-LAST-EXTERNAL,64648.00,64821.99,63668.00,64359.91,1590.232560,1722567600000000000)\u001b[0m\n",
      "\u001b[1m2024-08-02T03:00:00.000000000Z\u001b[0m \u001b[94m[INFO] BACKTESTER-001.EMACross: Waiting for indicators to warm up [84]\u001b[0m\n",
      "\u001b[1m2024-08-02T04:00:00.000000000Z\u001b[0m \u001b[36m[INFO] BACKTESTER-001.EMACross: Bar(BTCUSDT.BINANCE-1-HOUR-LAST-EXTERNAL,64359.92,64636.80,64246.00,64609.18,754.342590,1722571200000000000)\u001b[0m\n",
      "\u001b[1m2024-08-02T04:00:00.000000000Z\u001b[0m \u001b[94m[INFO] BACKTESTER-001.EMACross: Waiting for indicators to warm up [85]\u001b[0m\n",
      "\u001b[1m2024-08-02T05:00:00.000000000Z\u001b[0m \u001b[36m[INFO] BACKTESTER-001.EMACross: Bar(BTCUSDT.BINANCE-1-HOUR-LAST-EXTERNAL,64609.17,64655.17,64438.00,64531.99,490.120410,1722574800000000000)\u001b[0m\n",
      "\u001b[1m2024-08-02T05:00:00.000000000Z\u001b[0m \u001b[94m[INFO] BACKTESTER-001.EMACross: Waiting for indicators to warm up [86]\u001b[0m\n",
      "\u001b[1m2024-08-02T06:00:00.000000000Z\u001b[0m \u001b[36m[INFO] BACKTESTER-001.EMACross: Bar(BTCUSDT.BINANCE-1-HOUR-LAST-EXTERNAL,64531.98,64541.72,64078.00,64170.01,1001.778390,1722578400000000000)\u001b[0m\n",
      "\u001b[1m2024-08-02T06:00:00.000000000Z\u001b[0m \u001b[94m[INFO] BACKTESTER-001.EMACross: Waiting for indicators to warm up [87]\u001b[0m\n",
      "\u001b[1m2024-08-02T07:00:00.000000000Z\u001b[0m \u001b[36m[INFO] BACKTESTER-001.EMACross: Bar(BTCUSDT.BINANCE-1-HOUR-LAST-EXTERNAL,64170.01,64640.00,63807.29,64477.21,1386.598570,1722582000000000000)\u001b[0m\n",
      "\u001b[1m2024-08-02T07:00:00.000000000Z\u001b[0m \u001b[94m[INFO] BACKTESTER-001.EMACross: Waiting for indicators to warm up [88]\u001b[0m\n",
      "\u001b[1m2024-08-02T08:00:00.000000000Z\u001b[0m \u001b[36m[INFO] BACKTESTER-001.EMACross: Bar(BTCUSDT.BINANCE-1-HOUR-LAST-EXTERNAL,64477.22,64516.01,64124.87,64164.07,944.579840,1722585600000000000)\u001b[0m\n",
      "\u001b[1m2024-08-02T08:00:00.000000000Z\u001b[0m \u001b[94m[INFO] BACKTESTER-001.EMACross: Waiting for indicators to warm up [89]\u001b[0m\n",
      "\u001b[1m2024-08-02T09:00:00.000000000Z\u001b[0m \u001b[36m[INFO] BACKTESTER-001.EMACross: Bar(BTCUSDT.BINANCE-1-HOUR-LAST-EXTERNAL,64164.07,64610.00,64044.00,64598.01,1005.208360,1722589200000000000)\u001b[0m\n",
      "\u001b[1m2024-08-02T09:00:00.000000000Z\u001b[0m \u001b[94m[INFO] BACKTESTER-001.EMACross: Waiting for indicators to warm up [90]\u001b[0m\n",
      "\u001b[1m2024-08-02T10:00:00.000000000Z\u001b[0m \u001b[36m[INFO] BACKTESTER-001.EMACross: Bar(BTCUSDT.BINANCE-1-HOUR-LAST-EXTERNAL,64598.01,64618.75,64420.80,64511.99,560.783110,1722592800000000000)\u001b[0m\n",
      "\u001b[1m2024-08-02T10:00:00.000000000Z\u001b[0m \u001b[94m[INFO] BACKTESTER-001.EMACross: Waiting for indicators to warm up [91]\u001b[0m\n",
      "\u001b[1m2024-08-02T11:00:00.000000000Z\u001b[0m \u001b[36m[INFO] BACKTESTER-001.EMACross: Bar(BTCUSDT.BINANCE-1-HOUR-LAST-EXTERNAL,64512.00,64873.61,64350.00,64764.93,804.088200,1722596400000000000)\u001b[0m\n",
      "\u001b[1m2024-08-02T11:00:00.000000000Z\u001b[0m \u001b[94m[INFO] BACKTESTER-001.EMACross: Waiting for indicators to warm up [92]\u001b[0m\n",
      "\u001b[1m2024-08-02T12:00:00.000000000Z\u001b[0m \u001b[36m[INFO] BACKTESTER-001.EMACross: Bar(BTCUSDT.BINANCE-1-HOUR-LAST-EXTERNAL,64764.93,64974.00,64649.96,64660.01,932.490560,1722600000000000000)\u001b[0m\n",
      "\u001b[1m2024-08-02T12:00:00.000000000Z\u001b[0m \u001b[94m[INFO] BACKTESTER-001.EMACross: Waiting for indicators to warm up [93]\u001b[0m\n",
      "\u001b[1m2024-08-02T13:00:00.000000000Z\u001b[0m \u001b[36m[INFO] BACKTESTER-001.EMACross: Bar(BTCUSDT.BINANCE-1-HOUR-LAST-EXTERNAL,64660.01,64940.01,64118.60,64846.00,2278.091260,1722603600000000000)\u001b[0m\n",
      "\u001b[1m2024-08-02T13:00:00.000000000Z\u001b[0m \u001b[94m[INFO] BACKTESTER-001.EMACross: Waiting for indicators to warm up [94]\u001b[0m\n",
      "\u001b[1m2024-08-02T14:00:00.000000000Z\u001b[0m \u001b[36m[INFO] BACKTESTER-001.EMACross: Bar(BTCUSDT.BINANCE-1-HOUR-LAST-EXTERNAL,64846.00,65524.01,64558.15,65229.99,2709.887020,1722607200000000000)\u001b[0m\n",
      "\u001b[1m2024-08-02T14:00:00.000000000Z\u001b[0m \u001b[94m[INFO] BACKTESTER-001.EMACross: Waiting for indicators to warm up [95]\u001b[0m\n",
      "\u001b[1m2024-08-02T15:00:00.000000000Z\u001b[0m \u001b[36m[INFO] BACKTESTER-001.EMACross: Bar(BTCUSDT.BINANCE-1-HOUR-LAST-EXTERNAL,65229.99,65366.01,63102.00,63157.95,4724.508910,1722610800000000000)\u001b[0m\n",
      "\u001b[1m2024-08-02T15:00:00.000000000Z\u001b[0m \u001b[94m[INFO] BACKTESTER-001.EMACross: Waiting for indicators to warm up [96]\u001b[0m\n",
      "\u001b[1m2024-08-02T16:00:00.000000000Z\u001b[0m \u001b[36m[INFO] BACKTESTER-001.EMACross: Bar(BTCUSDT.BINANCE-1-HOUR-LAST-EXTERNAL,63157.95,63636.46,62432.90,63416.01,4670.332150,1722614400000000000)\u001b[0m\n",
      "\u001b[1m2024-08-02T16:00:00.000000000Z\u001b[0m \u001b[94m[INFO] BACKTESTER-001.EMACross: Waiting for indicators to warm up [97]\u001b[0m\n",
      "\u001b[1m2024-08-02T17:00:00.000000000Z\u001b[0m \u001b[36m[INFO] BACKTESTER-001.EMACross: Bar(BTCUSDT.BINANCE-1-HOUR-LAST-EXTERNAL,63416.00,63611.24,62964.41,63307.38,1657.675880,1722618000000000000)\u001b[0m\n",
      "\u001b[1m2024-08-02T17:00:00.000000000Z\u001b[0m \u001b[94m[INFO] BACKTESTER-001.EMACross: Waiting for indicators to warm up [98]\u001b[0m\n",
      "\u001b[1m2024-08-02T18:00:00.000000000Z\u001b[0m \u001b[36m[INFO] BACKTESTER-001.EMACross: Bar(BTCUSDT.BINANCE-1-HOUR-LAST-EXTERNAL,63307.39,63456.01,63066.00,63098.01,743.542980,1722621600000000000)\u001b[0m\n",
      "\u001b[1m2024-08-02T18:00:00.000000000Z\u001b[0m \u001b[94m[INFO] BACKTESTER-001.EMACross: Waiting for indicators to warm up [99]\u001b[0m\n",
      "\u001b[1m2024-08-02T19:00:00.000000000Z\u001b[0m \u001b[36m[INFO] BACKTESTER-001.EMACross: Bar(BTCUSDT.BINANCE-1-HOUR-LAST-EXTERNAL,63098.01,63220.00,62784.00,62898.25,1026.499580,1722625200000000000)\u001b[0m\n",
      "\u001b[1m2024-08-02T19:00:00.000000000Z\u001b[0m [INFO] BACKTESTER-001.EMACross: <--[EVT] OrderInitialized(instrument_id=BTCUSDT.BINANCE, client_order_id=O-20240802-190000-001-000-1, side=SELL, type=MARKET, quantity=1_000.000000, time_in_force=GTC, post_only=False, reduce_only=False, quote_quantity=False, options={}, emulation_trigger=NO_TRIGGER, trigger_instrument_id=None, contingency_type=NO_CONTINGENCY, order_list_id=None, linked_order_ids=None, parent_order_id=None, exec_algorithm_id=None, exec_algorithm_params=None, exec_spawn_id=None, tags=None)\u001b[0m\n",
      "\u001b[1m2024-08-02T19:00:00.000000000Z\u001b[0m [INFO] BACKTESTER-001.EMACross: [CMD]--> [Risk] SubmitOrder(order=MarketOrder(SELL 1_000.000000 BTCUSDT.BINANCE MARKET GTC, status=INITIALIZED, client_order_id=O-20240802-190000-001-000-1, venue_order_id=None, position_id=None, tags=None), position_id=None)\u001b[0m\n",
      "\u001b[1m2024-08-02T19:00:00.000000000Z\u001b[0m \u001b[1;33m[WARN] BACKTESTER-001.RiskEngine: Cannot check MARKET order risk: no prices for BTCUSDT.BINANCE\u001b[0m\n",
      "\u001b[1m2024-08-02T19:00:00.000000000Z\u001b[0m [INFO] BACKTESTER-001.EMACross: <--[EVT] OrderSubmitted(instrument_id=BTCUSDT.BINANCE, client_order_id=O-20240802-190000-001-000-1, account_id=BINANCE-001, ts_event=1722625200000000000)\u001b[0m\n",
      "\u001b[1m2024-08-02T19:00:00.000000000Z\u001b[0m [INFO] BACKTESTER-001.EMACross: Canceling 1 open BTCUSDT.BINANCE order\u001b[0m\n",
      "\u001b[1m2024-08-02T19:00:00.000000000Z\u001b[0m [INFO] BACKTESTER-001.EMACross: [CMD]--> [Execution] CancelAllOrders(instrument_id=BTCUSDT.BINANCE, order_side=NO_ORDER_SIDE)\u001b[0m\n",
      "\u001b[1m2024-08-02T19:00:00.000000000Z\u001b[0m [INFO] BACKTESTER-001.EMACross: No BTCUSDT.BINANCE open positions to close\u001b[0m\n",
      "\u001b[1m2024-08-02T19:00:00.000000000Z\u001b[0m [INFO] BACKTESTER-001.EMACross: [CMD]--> UnsubscribeBars(bar_type=BTCUSDT.BINANCE-1-HOUR-LAST-EXTERNAL, client_id=None, venue=BINANCE)\u001b[0m\n",
      "\u001b[1m2024-08-02T19:00:00.000000000Z\u001b[0m [INFO] BACKTESTER-001.EMACross: Unsubscribed from BTCUSDT.BINANCE-1-HOUR-LAST-EXTERNAL bar data\u001b[0m\n",
      "\u001b[1m2024-08-02T19:00:00.000000000Z\u001b[0m [INFO] BACKTESTER-001.EMACross: [CMD]--> UnsubscribeTradeTicks(instrument_id=BTCUSDT.BINANCE, client_id=None, venue=BINANCE)\u001b[0m\n",
      "\u001b[1m2024-08-02T19:00:00.000000000Z\u001b[0m [INFO] BACKTESTER-001.EMACross: STOPPED\u001b[0m\n",
      "\u001b[1m2024-08-02T19:00:00.000000000Z\u001b[0m [INFO] BACKTESTER-001.BACKTESTER-001: STOPPED\u001b[0m\n",
      "\u001b[1m2024-08-02T19:00:00.000000000Z\u001b[0m [INFO] BACKTESTER-001.DataClient-BINANCE: Disconnecting...\u001b[0m\n",
      "\u001b[1m2024-08-02T19:00:00.000000000Z\u001b[0m [INFO] BACKTESTER-001.DataClient-BINANCE: Disconnected\u001b[0m\n",
      "\u001b[1m2024-08-02T19:00:00.000000000Z\u001b[0m [INFO] BACKTESTER-001.DataClient-BINANCE: STOPPED\u001b[0m\n",
      "\u001b[1m2024-08-02T19:00:00.000000000Z\u001b[0m [INFO] BACKTESTER-001.DataEngine: STOPPED\u001b[0m\n",
      "\u001b[1m2024-08-02T19:00:00.000000000Z\u001b[0m [INFO] BACKTESTER-001.RiskEngine: STOPPED\u001b[0m\n",
      "\u001b[1m2024-08-02T19:00:00.000000000Z\u001b[0m [INFO] BACKTESTER-001.ExecClient-BINANCE: Disconnecting...\u001b[0m\n",
      "\u001b[1m2024-08-02T19:00:00.000000000Z\u001b[0m [INFO] BACKTESTER-001.ExecClient-BINANCE: Disconnected\u001b[0m\n",
      "\u001b[1m2024-08-02T19:00:00.000000000Z\u001b[0m [INFO] BACKTESTER-001.ExecClient-BINANCE: STOPPED\u001b[0m\n",
      "\u001b[1m2024-08-02T19:00:00.000000000Z\u001b[0m [INFO] BACKTESTER-001.ExecEngine: STOPPED\u001b[0m\n",
      "\u001b[1m2024-08-02T19:00:00.000000000Z\u001b[0m [INFO] BACKTESTER-001.OrderEmulator: STOPPED\u001b[0m\n",
      "\u001b[1m2024-08-02T19:00:00.000000000Z\u001b[0m [INFO] BACKTESTER-001.Portfolio: BTCUSDT.BINANCE balance_locked=0.00000000 USDT\u001b[0m\n",
      "\u001b[1m2024-08-02T19:00:00.000000000Z\u001b[0m [INFO] BACKTESTER-001.Portfolio: Updated AccountState(account_id=BINANCE-001, account_type=CASH, base_currency=None, is_reported=False, balances=[AccountBalance(total=1_000_000.00000000 USDT, locked=0.00000000 USDT, free=1_000_000.00000000 USDT), AccountBalance(total=1.00000000 BTC, locked=0.00000000 BTC, free=1.00000000 BTC)], margins=[], event_id=b92f8810-7f0e-4b9d-afe4-be1f36da5825)\u001b[0m\n",
      "\u001b[1m2024-08-02T19:00:00.000000000Z\u001b[0m [INFO] BACKTESTER-001.EMACross: <--[EVT] OrderCanceled(instrument_id=BTCUSDT.BINANCE, client_order_id=O-20240802-190000-001-000-1, venue_order_id=BINANCE-1-001, account_id=BINANCE-001, ts_event=1722625200000000000)\u001b[0m\n",
      "\u001b[1m2025-07-30T15:34:18.070543283Z\u001b[0m [INFO] BACKTESTER-001.BacktestEngine: \u001b[36m=================================================================\u001b[0m\n",
      "\u001b[1m2025-07-30T15:34:18.070545325Z\u001b[0m [INFO] BACKTESTER-001.BacktestEngine: \u001b[36m BACKTEST POST-RUN\u001b[0m\n",
      "\u001b[1m2025-07-30T15:34:18.070545952Z\u001b[0m [INFO] BACKTESTER-001.BacktestEngine: \u001b[36m=================================================================\u001b[0m\n",
      "\u001b[1m2025-07-30T15:34:18.070547781Z\u001b[0m [INFO] BACKTESTER-001.BacktestEngine: Run config ID:  1d0def9f9d8d27113f49f971304620b084621c590e8eaca46d783e7e00c2b8ce\u001b[0m\n",
      "\u001b[1m2025-07-30T15:34:18.070551580Z\u001b[0m [INFO] BACKTESTER-001.BacktestEngine: Run ID:         54bc1073-3ff8-4371-a6ec-a371daf51707\u001b[0m\n",
      "\u001b[1m2025-07-30T15:34:18.070568204Z\u001b[0m [INFO] BACKTESTER-001.BacktestEngine: Run started:    2025-07-30T15:34:17.996162000Z\u001b[0m\n",
      "\u001b[1m2025-07-30T15:34:18.070570513Z\u001b[0m [INFO] BACKTESTER-001.BacktestEngine: Run finished:   2025-07-30T15:34:18.070433000Z\u001b[0m\n",
      "\u001b[1m2025-07-30T15:34:18.070609253Z\u001b[0m [INFO] BACKTESTER-001.BacktestEngine: Elapsed time:   0 days 00:00:00.074271\u001b[0m\n",
      "\u001b[1m2025-07-30T15:34:18.070611842Z\u001b[0m [INFO] BACKTESTER-001.BacktestEngine: Backtest start: 2024-07-29T16:00:00.000000000Z\u001b[0m\n",
      "\u001b[1m2025-07-30T15:34:18.070613834Z\u001b[0m [INFO] BACKTESTER-001.BacktestEngine: Backtest end:   2024-08-02T19:00:00.000000000Z\u001b[0m\n",
      "\u001b[1m2025-07-30T15:34:18.070625603Z\u001b[0m [INFO] BACKTESTER-001.BacktestEngine: Backtest range: 4 days 03:00:00\u001b[0m\n",
      "\u001b[1m2025-07-30T15:34:18.070628553Z\u001b[0m [INFO] BACKTESTER-001.BacktestEngine: Iterations: 199\u001b[0m\n",
      "\u001b[1m2025-07-30T15:34:18.070633928Z\u001b[0m [INFO] BACKTESTER-001.BacktestEngine: Total events: 3\u001b[0m\n",
      "\u001b[1m2025-07-30T15:34:18.070653342Z\u001b[0m [INFO] BACKTESTER-001.BacktestEngine: Total orders: 1\u001b[0m\n",
      "\u001b[1m2025-07-30T15:34:18.070662727Z\u001b[0m [INFO] BACKTESTER-001.BacktestEngine: Total positions: 0\u001b[0m\n",
      "\u001b[1m2025-07-30T15:34:18.070672532Z\u001b[0m [INFO] BACKTESTER-001.BacktestEngine: \u001b[36m=================================================================\u001b[0m\n",
      "\u001b[1m2025-07-30T15:34:18.070676537Z\u001b[0m [INFO] BACKTESTER-001.BacktestEngine: \u001b[36m SimulatedVenue BINANCE\u001b[0m\n",
      "\u001b[1m2025-07-30T15:34:18.070677200Z\u001b[0m [INFO] BACKTESTER-001.BacktestEngine: \u001b[36m=================================================================\u001b[0m\n",
      "\u001b[1m2025-07-30T15:34:18.070682649Z\u001b[0m [INFO] BACKTESTER-001.BacktestEngine: CashAccount(id=BINANCE-001, type=CASH, base=None)\u001b[0m\n",
      "\u001b[1m2025-07-30T15:34:18.070685046Z\u001b[0m [INFO] BACKTESTER-001.BacktestEngine: \u001b[36m-----------------------------------------------------------------\u001b[0m\n",
      "\u001b[1m2025-07-30T15:34:18.070687796Z\u001b[0m [INFO] BACKTESTER-001.BacktestEngine: Balances starting:\u001b[0m\n",
      "\u001b[1m2025-07-30T15:34:18.070698539Z\u001b[0m [INFO] BACKTESTER-001.BacktestEngine: 1_000_000.00000000 USDT\u001b[0m\n",
      "\u001b[1m2025-07-30T15:34:18.070701834Z\u001b[0m [INFO] BACKTESTER-001.BacktestEngine: 1.00000000 BTC\u001b[0m\n",
      "\u001b[1m2025-07-30T15:34:18.070703541Z\u001b[0m [INFO] BACKTESTER-001.BacktestEngine: \u001b[36m-----------------------------------------------------------------\u001b[0m\n",
      "\u001b[1m2025-07-30T15:34:18.070704611Z\u001b[0m [INFO] BACKTESTER-001.BacktestEngine: Balances ending:\u001b[0m\n",
      "\u001b[1m2025-07-30T15:34:18.070710533Z\u001b[0m [INFO] BACKTESTER-001.BacktestEngine: 1_000_000.00000000 USDT\u001b[0m\n",
      "\u001b[1m2025-07-30T15:34:18.070713337Z\u001b[0m [INFO] BACKTESTER-001.BacktestEngine: 1.00000000 BTC\u001b[0m\n",
      "\u001b[1m2025-07-30T15:34:18.070714383Z\u001b[0m [INFO] BACKTESTER-001.BacktestEngine: \u001b[36m-----------------------------------------------------------------\u001b[0m\n",
      "\u001b[1m2025-07-30T15:34:18.070717492Z\u001b[0m [INFO] BACKTESTER-001.BacktestEngine: Commissions:\u001b[0m\n",
      "\u001b[1m2025-07-30T15:34:18.070719940Z\u001b[0m [INFO] BACKTESTER-001.BacktestEngine: \u001b[36m-----------------------------------------------------------------\u001b[0m\n",
      "\u001b[1m2025-07-30T15:34:18.070720697Z\u001b[0m [INFO] BACKTESTER-001.BacktestEngine: Unrealized PnLs (included in totals):\u001b[0m\n",
      "\u001b[1m2025-07-30T15:34:18.070751229Z\u001b[0m [INFO] BACKTESTER-001.BacktestEngine: None\u001b[0m\n",
      "\u001b[1m2025-07-30T15:34:18.070753483Z\u001b[0m [INFO] BACKTESTER-001.BacktestEngine: \u001b[36m=================================================================\u001b[0m\n",
      "\u001b[1m2025-07-30T15:34:18.070754706Z\u001b[0m [INFO] BACKTESTER-001.BacktestEngine: \u001b[36m PORTFOLIO PERFORMANCE\u001b[0m\n",
      "\u001b[1m2025-07-30T15:34:18.070755568Z\u001b[0m [INFO] BACKTESTER-001.BacktestEngine: \u001b[36m=================================================================\u001b[0m\n",
      "\u001b[1m2025-07-30T15:34:18.071229398Z\u001b[0m [INFO] BACKTESTER-001.BacktestEngine:  Returns Statistics\u001b[0m\n",
      "\u001b[1m2025-07-30T15:34:18.071231871Z\u001b[0m [INFO] BACKTESTER-001.BacktestEngine: \u001b[36m-----------------------------------------------------------------\u001b[0m\n",
      "\u001b[1m2025-07-30T15:34:18.071326629Z\u001b[0m [INFO] BACKTESTER-001.BacktestEngine: Returns Volatility (252 days):  nan\u001b[0m\n",
      "\u001b[1m2025-07-30T15:34:18.071327727Z\u001b[0m [INFO] BACKTESTER-001.BacktestEngine: Average (Return):               nan\u001b[0m\n",
      "\u001b[1m2025-07-30T15:34:18.071328301Z\u001b[0m [INFO] BACKTESTER-001.BacktestEngine: Average Loss (Return):          nan\u001b[0m\n",
      "\u001b[1m2025-07-30T15:34:18.071328844Z\u001b[0m [INFO] BACKTESTER-001.BacktestEngine: Average Win (Return):           nan\u001b[0m\n",
      "\u001b[1m2025-07-30T15:34:18.071329394Z\u001b[0m [INFO] BACKTESTER-001.BacktestEngine: Sharpe Ratio (252 days):        nan\u001b[0m\n",
      "\u001b[1m2025-07-30T15:34:18.071330109Z\u001b[0m [INFO] BACKTESTER-001.BacktestEngine: Sortino Ratio (252 days):       nan\u001b[0m\n",
      "\u001b[1m2025-07-30T15:34:18.071331495Z\u001b[0m [INFO] BACKTESTER-001.BacktestEngine: Profit Factor:                  nan\u001b[0m\n",
      "\u001b[1m2025-07-30T15:34:18.071331862Z\u001b[0m [INFO] BACKTESTER-001.BacktestEngine: Risk Return Ratio:              nan\u001b[0m\n",
      "\u001b[1m2025-07-30T15:34:18.071332807Z\u001b[0m [INFO] BACKTESTER-001.BacktestEngine: \u001b[36m-----------------------------------------------------------------\u001b[0m\n",
      "\u001b[1m2025-07-30T15:34:18.071333651Z\u001b[0m [INFO] BACKTESTER-001.BacktestEngine:  General Statistics\u001b[0m\n",
      "\u001b[1m2025-07-30T15:34:18.071334137Z\u001b[0m [INFO] BACKTESTER-001.BacktestEngine: \u001b[36m-----------------------------------------------------------------\u001b[0m\n",
      "\u001b[1m2025-07-30T15:34:18.071365686Z\u001b[0m [INFO] BACKTESTER-001.BacktestEngine: \u001b[36m-----------------------------------------------------------------\u001b[0m\n"
     ]
    },
    {
     "name": "stderr",
     "output_type": "stream",
     "text": [
      "\u001b[1m2024-07-29T16:00:00.000000000Z\u001b[0m \u001b[1;31m[ERROR] BACKTESTER-001.EMACross: Received <Bar[0]> data for unknown bar type\u001b[0m\n",
      "\u001b[1m2024-08-02T19:00:00.000000000Z\u001b[0m \u001b[1;31m[ERROR] BACKTESTER-001.BacktestEngine: Stopping backtest from AccountBalanceNegative(balance=-255.62489500, currency=BTC)\u001b[0m\n"
     ]
    },
    {
     "name": "stdout",
     "output_type": "stream",
     "text": [
      "\u001b[1m2025-07-30T15:34:18.075085009Z\u001b[0m [INFO] BACKTESTER-001.DataClient-BINANCE: DISPOSED\u001b[0m\n",
      "\u001b[1m2025-07-30T15:34:18.075129696Z\u001b[0m [INFO] BACKTESTER-001.DataEngine: DISPOSED\u001b[0m\n",
      "\u001b[1m2025-07-30T15:34:18.075161822Z\u001b[0m [INFO] BACKTESTER-001.RiskEngine: DISPOSED\u001b[0m\n",
      "\u001b[1m2025-07-30T15:34:18.075200019Z\u001b[0m [INFO] BACKTESTER-001.ExecClient-BINANCE: DISPOSED\u001b[0m\n",
      "\u001b[1m2025-07-30T15:34:18.075223726Z\u001b[0m [INFO] BACKTESTER-001.ExecEngine: DISPOSED\u001b[0m\n",
      "\u001b[1m2025-07-30T15:34:18.075244457Z\u001b[0m [INFO] BACKTESTER-001.MessageBus: Closed message bus\u001b[0m\n",
      "\u001b[1m2025-07-30T15:34:18.075269692Z\u001b[0m [INFO] BACKTESTER-001.BACKTESTER-001: Cleared actors\u001b[0m\n",
      "\u001b[1m2025-07-30T15:34:18.075297787Z\u001b[0m [INFO] BACKTESTER-001.EMACross: DISPOSED\u001b[0m\n",
      "\u001b[1m2025-07-30T15:34:18.075320070Z\u001b[0m [INFO] BACKTESTER-001.BACKTESTER-001: Cleared trading strategies\u001b[0m\n",
      "\u001b[1m2025-07-30T15:34:18.075335565Z\u001b[0m [INFO] BACKTESTER-001.BACKTESTER-001: Cleared execution algorithms\u001b[0m\n",
      "\u001b[1m2025-07-30T15:34:18.077332203Z\u001b[0m [INFO] BACKTESTER-001.BACKTESTER-001: DISPOSED\u001b[0m\n"
     ]
    }
   ],
   "source": [
    "node = BacktestNode(configs=[run_config])\n",
    "\n",
    "results = node.run()"
   ]
  },
  {
   "cell_type": "code",
   "execution_count": 170,
   "id": "9e019942",
   "metadata": {},
   "outputs": [
    {
     "data": {
      "text/plain": [
       "[BacktestResult(trader_id='BACKTESTER-001', machine_id='codespaces-1bbeae', run_config_id='1d0def9f9d8d27113f49f971304620b084621c590e8eaca46d783e7e00c2b8ce', instance_id='3f1849a0-ec80-41b2-93ef-6c39f5ff43e8', run_id='54bc1073-3ff8-4371-a6ec-a371daf51707', run_started=1753889657996162000, run_finished=1753889658070433000, backtest_start=1722268800000000000, backtest_end=1722625200000000000, elapsed_time=356400.0, iterations=199, total_events=3, total_orders=1, total_positions=0, stats_pnls={'USDT': {'PnL (total)': 0.0, 'PnL% (total)': 0.0, 'Max Winner': 0.0, 'Avg Winner': 0.0, 'Min Winner': 0.0, 'Min Loser': 0.0, 'Avg Loser': 0.0, 'Max Loser': 0.0, 'Expectancy': 0.0, 'Win Rate': 0.0}, 'BTC': {'PnL (total)': 0.0, 'PnL% (total)': 0.0, 'Max Winner': 0.0, 'Avg Winner': 0.0, 'Min Winner': 0.0, 'Min Loser': 0.0, 'Avg Loser': 0.0, 'Max Loser': 0.0, 'Expectancy': 0.0, 'Win Rate': 0.0}}, stats_returns={'Returns Volatility (252 days)': nan, 'Average (Return)': nan, 'Average Loss (Return)': nan, 'Average Win (Return)': nan, 'Sharpe Ratio (252 days)': nan, 'Sortino Ratio (252 days)': nan, 'Profit Factor': nan, 'Risk Return Ratio': nan})]"
      ]
     },
     "execution_count": 170,
     "metadata": {},
     "output_type": "execute_result"
    }
   ],
   "source": [
    "results"
   ]
  }
 ],
 "metadata": {
  "kernelspec": {
   "display_name": "nautilustrader-ikbr-bot",
   "language": "python",
   "name": "python3"
  },
  "language_info": {
   "codemirror_mode": {
    "name": "ipython",
    "version": 3
   },
   "file_extension": ".py",
   "mimetype": "text/x-python",
   "name": "python",
   "nbconvert_exporter": "python",
   "pygments_lexer": "ipython3",
   "version": "3.12.1"
  }
 },
 "nbformat": 4,
 "nbformat_minor": 5
}
